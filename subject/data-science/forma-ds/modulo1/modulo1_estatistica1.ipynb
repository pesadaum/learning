{
 "cells": [
  {
   "cell_type": "markdown",
   "metadata": {},
   "source": [
    "# Estatística\n",
    "\n",
    "3 tipos:\n",
    "\n",
    "- Descritiva: organizar e resumir dados\n",
    "- probabilidade: avaliar o acaso\n",
    "- inferência: tirar resultados do todo observando as partes\n",
    "\n",
    "# Observação e experimento\n",
    "\n",
    "a observação não consegue verificar causa e efeito, experimento consegue\n",
    "\n",
    "# Variáveis \n",
    "\n",
    "Quantitativas: São numéricas\n",
    "Qualitativas: Categóricas"
   ]
  },
  {
   "cell_type": "markdown",
   "metadata": {},
   "source": [
    "# Amostragem I\n",
    "\n",
    "Parte de uma população que representa o todo, e todos os elementos devem ter a mesma chance de serem selecionados\n",
    "\n",
    "- População: todo mundo\n",
    "- Amostra: subconjunto da população\n",
    "- Censo: pesquisa com toda a população\n",
    "\n",
    "> Amostra != população\n",
    "\n",
    "## Enviesamento\n",
    "\n",
    "Superestimar ou subestimar parâmetros, escolher sem ser aleatório"
   ]
  },
  {
   "cell_type": "markdown",
   "metadata": {},
   "source": [
    "# Amostragem II\n",
    "\n",
    "Normalmente nem em aplicações computacionais se usa todo o conjunto de dados.\n",
    "\n",
    "Lembrar da parte de ML onde precisa de população de teste; treino; validação\n"
   ]
  },
  {
   "cell_type": "markdown",
   "metadata": {},
   "source": [
    "# Amostragem III\n",
    "\n",
    "Existem 3 tipos principais:\n",
    "\n",
    "## Amostra aleatória simples\n",
    "\n",
    "Retirar elementos de forma aleatória da população, garantindo que todos tenham as mesmas chances de serem selecionados. \n",
    "\n",
    "Com reposição o elemento pode ser selecionado novamente, o sem reposição, não.\n",
    "\n",
    "## Amostra estratificada\n",
    "\n",
    "Classificar a população em subgrupos\n",
    "\n",
    "## Amostra sistemática\n",
    "\n",
    "Seleciona um número de pessoas de forma sequencial até um número máximo. Quando chegar nesse número máximo é sorteado outro número, e as pessoas são selecionadas de forma sequencial novamente até atingir o limite.\n",
    "\n"
   ]
  },
  {
   "cell_type": "code",
   "execution_count": 40,
   "metadata": {},
   "outputs": [
    {
     "name": "stdout",
     "output_type": "stream",
     "text": [
      "Defaulting to user installation because normal site-packages is not writeable\n",
      "Requirement already satisfied: pandas in /home/pesadaum/.local/lib/python3.8/site-packages (1.3.3)\n",
      "Requirement already satisfied: numpy>=1.17.3 in /usr/local/lib/python3.8/dist-packages (from pandas) (1.19.5)\n",
      "Requirement already satisfied: python-dateutil>=2.7.3 in /usr/lib/python3/dist-packages (from pandas) (2.7.3)\n",
      "Requirement already satisfied: pytz>=2017.3 in /usr/lib/python3/dist-packages (from pandas) (2019.3)\n",
      "Defaulting to user installation because normal site-packages is not writeable\n",
      "Requirement already satisfied: matplotlib in /usr/local/lib/python3.8/dist-packages (3.3.3)\n",
      "Requirement already satisfied: pillow>=6.2.0 in /home/pesadaum/.local/lib/python3.8/site-packages (from matplotlib) (8.3.2)\n",
      "Requirement already satisfied: numpy>=1.15 in /usr/local/lib/python3.8/dist-packages (from matplotlib) (1.19.5)\n",
      "Requirement already satisfied: pyparsing!=2.0.4,!=2.1.2,!=2.1.6,>=2.0.3 in /usr/local/lib/python3.8/dist-packages (from matplotlib) (2.4.7)\n",
      "Requirement already satisfied: kiwisolver>=1.0.1 in /usr/local/lib/python3.8/dist-packages (from matplotlib) (1.3.1)\n",
      "Requirement already satisfied: cycler>=0.10 in /usr/local/lib/python3.8/dist-packages (from matplotlib) (0.10.0)\n",
      "Requirement already satisfied: python-dateutil>=2.1 in /usr/lib/python3/dist-packages (from matplotlib) (2.7.3)\n",
      "Requirement already satisfied: six in /usr/lib/python3/dist-packages (from cycler>=0.10->matplotlib) (1.14.0)\n"
     ]
    }
   ],
   "source": [
    "!pip install pandas\n",
    "!pip install matplotlib\n"
   ]
  },
  {
   "cell_type": "code",
   "execution_count": 41,
   "metadata": {},
   "outputs": [
    {
     "data": {
      "text/plain": [
       "73"
      ]
     },
     "execution_count": 41,
     "metadata": {},
     "output_type": "execute_result"
    }
   ],
   "source": [
    "\n",
    "# Amostragem simples\n",
    "import pandas as pd\n",
    "import numpy as np\n",
    "\n",
    "df = pd.read_csv('datasets/Iris.csv')\n",
    "\n",
    "sample = np.random.choice(a = [0,1], size = 150, replace=True, p= [0.5, 0.5])\n",
    "len(sample[sample==1])\n",
    "len(sample[sample == 0])"
   ]
  },
  {
   "cell_type": "code",
   "execution_count": 42,
   "metadata": {},
   "outputs": [
    {
     "name": "stdout",
     "output_type": "stream",
     "text": [
      "Defaulting to user installation because normal site-packages is not writeable\n",
      "Requirement already satisfied: sklearn in /home/pesadaum/.local/lib/python3.8/site-packages (0.0)\n",
      "Requirement already satisfied: scikit-learn in /home/pesadaum/.local/lib/python3.8/site-packages (from sklearn) (1.0.1)\n",
      "Requirement already satisfied: scipy>=1.1.0 in /usr/local/lib/python3.8/dist-packages (from scikit-learn->sklearn) (1.6.0)\n",
      "Requirement already satisfied: joblib>=0.11 in /home/pesadaum/.local/lib/python3.8/site-packages (from scikit-learn->sklearn) (1.1.0)\n",
      "Requirement already satisfied: threadpoolctl>=2.0.0 in /home/pesadaum/.local/lib/python3.8/site-packages (from scikit-learn->sklearn) (3.0.0)\n",
      "Requirement already satisfied: numpy>=1.14.6 in /usr/local/lib/python3.8/dist-packages (from scikit-learn->sklearn) (1.19.5)\n"
     ]
    }
   ],
   "source": [
    "!pip install sklearn"
   ]
  },
  {
   "cell_type": "code",
   "execution_count": 44,
   "metadata": {},
   "outputs": [
    {
     "data": {
      "text/plain": [
       "6-11yrs    48\n",
       "12+ yrs    46\n",
       "0-5yrs      5\n",
       "Name: education, dtype: int64"
      ]
     },
     "execution_count": 44,
     "metadata": {},
     "output_type": "execute_result"
    }
   ],
   "source": [
    "\n",
    "# amostragem estratificada\n",
    "import pandas as pd\n",
    "from sklearn.model_selection import train_test_split\n",
    "\n",
    "iris = pd.read_csv('datasets/Iris.csv')\n",
    "iris.head()\n",
    "iris['Species'].value_counts()\n",
    "\n",
    "X, _, y, _ = train_test_split(iris.iloc[:, 0:4], iris['Species'], test_size=0.5, stratify=iris['Species'])\n",
    "\n",
    "infert = pd.read_csv('datasets/infert.csv')\n",
    "infert['education'].value_counts()\n",
    "\n",
    "X1, _, y1, _ = train_test_split(infert.iloc[:, 2:9], infert['education'], test_size=0.6, stratify=infert['education'])\n",
    "\n",
    "y1.value_counts()"
   ]
  },
  {
   "cell_type": "code",
   "execution_count": 10,
   "metadata": {},
   "outputs": [],
   "source": [
    "# Amostragem sistemática\n",
    "import pandas as pd\n",
    "import numpy as np\n",
    "from math import ceil\n",
    "\n",
    "population = 150\n",
    "sample = 15\n",
    "k = ceil(population/sample)\n",
    "\n",
    "r = np.random.randint(low = 1, high = k+1, size = 1)\n",
    "\n",
    "acc = r[0]\n",
    "sort = []\n",
    "\n",
    "for i in range(sample):\n",
    "    sort.append(acc)\n",
    "    acc += k\n",
    "\n",
    "df = pd.read_csv('datasets/Iris.csv')\n",
    "data = df.loc[sort]"
   ]
  },
  {
   "cell_type": "markdown",
   "metadata": {},
   "source": [
    "# Centralidade\n",
    "\n",
    "## média\n",
    "\n",
    "Da população:\n",
    "\n",
    "$ \\mu = \\frac{\\sum x}{N} $\n",
    "\n",
    "Da amostra:\n",
    "\n",
    "$\\bar{X} = \\frac{\\sum x}{n -1}$\n",
    "\n",
    "## moda\n",
    "\n",
    "Valor mais frequente\n",
    "\n",
    "## Mediana\n",
    "\n",
    "valor do meio com o vetor de valores ordenado crescentemente\n",
    "\n",
    "Se o número de elementos for ímpar basta pegar o valor (n/2 + n+1/2)/2\n",
    "\n",
    "# Variabilidade\n",
    "\n",
    "## Variância\n",
    "\n",
    "Distância entre os dados **em relação à média**\n",
    "\n",
    "Da população:\n",
    "\n",
    "$\\sigma^2 = \\frac{\\sum(x_i - \\bar{x})^2}{N}$\n",
    "\n",
    "Da amostra:\n",
    "\n",
    "$s^2 = \\frac{\\sum(x_i - \\bar{x})^2}{n}$\n",
    "\n",
    "## Desvio padrão\n",
    "\n",
    "Raiz da variância\n",
    "\n",
    "\n",
    "## Amplitude\n",
    "\n",
    "Diferença entre o maior e menor valor\n",
    "\n",
    "## Quartis\n",
    "\n",
    "Divide os dados em 4 partes para avaliar de forma mais uniforme\n"
   ]
  },
  {
   "cell_type": "code",
   "execution_count": 18,
   "metadata": {},
   "outputs": [
    {
     "data": {
      "text/plain": [
       "DescribeResult(nobs=9, minmax=(12000, 800000), mean=181111.11111111112, variance=65182111111.11111, skewness=1.758635899846188, kurtosis=1.9572075427527729)"
      ]
     },
     "execution_count": 18,
     "metadata": {},
     "output_type": "execute_result"
    }
   ],
   "source": [
    "# Centralidade e variabilidade\n",
    "import numpy as np\n",
    "from scipy import stats\n",
    "\n",
    "players = [40000, 18000, 12000, 250000, 30000, 140000, 300000, 40000, 800000]\n",
    "\n",
    "np.mean(players)\n",
    "np.median(players)\n",
    "\n",
    "quantiles = np.quantile(players, [0, .25, .5, .75, 1])\n",
    "\n",
    "np.std(players, ddof=1)\n",
    "\n",
    "stats.describe(players)\n"
   ]
  },
  {
   "cell_type": "markdown",
   "metadata": {},
   "source": [
    "# Probabilidade\n",
    "\n",
    "Probabilidade (P):\n",
    "\n",
    "$0 < P < 1$\n",
    "\n",
    "- P = 0: evento impossível\n",
    "- P = 1: evento certo\n",
    "\n",
    "Termos:\n",
    "\n",
    "- Experimento: o que está sendo estudado\n",
    "- Espaço amostral: possibilidades\n",
    "- Evento: resultado do experimento\n",
    "\n",
    "Excludentes e não excludentes:\n",
    "\n",
    "- Excludente: não ocorrem 2 eventos distintos ao mesmo tempo -> somam-se as probabilidades \n",
    "- Não-Excludente: ocorrem 2 eventos distintos ao mesmo tempo -> diminui-se as probabilidades simultâneas\n",
    "\n",
    "Nos eventos dependentes e independentes:\n",
    "\n",
    "- Independentes: multiplicam-se as probabilidades (ex tirar 3 no dado 4 vezes seguidas)\n",
    "- Dependentes: também multiplicam-se as probabilidades mas o espaço amostral muda (ex tirar 2 e depois 3 no baralho sem repor as cartas)\n",
    "\n"
   ]
  }
 ],
 "metadata": {
  "interpreter": {
   "hash": "916dbcbb3f70747c44a77c7bcd40155683ae19c65e1c03b4aa3499c5328201f1"
  },
  "kernelspec": {
   "display_name": "Python 3.8.10 64-bit",
   "name": "python3"
  },
  "language_info": {
   "codemirror_mode": {
    "name": "ipython",
    "version": 3
   },
   "file_extension": ".py",
   "mimetype": "text/x-python",
   "name": "python",
   "nbconvert_exporter": "python",
   "pygments_lexer": "ipython3",
   "version": "3.8.10"
  },
  "orig_nbformat": 4
 },
 "nbformat": 4,
 "nbformat_minor": 2
}
