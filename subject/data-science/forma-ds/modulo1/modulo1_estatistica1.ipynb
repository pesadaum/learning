{
 "cells": [
  {
   "cell_type": "markdown",
   "metadata": {},
   "source": [
    "# Estatística\n",
    "\n",
    "3 tipos:\n",
    "\n",
    "- Descritiva: organizar e resumir dados\n",
    "- probabilidade: avaliar o acaso\n",
    "- inferência: tirar resultados do todo observando as partes\n",
    "\n",
    "# Observação e experimento\n",
    "\n",
    "a observação não consegue verificar causa e efeito, experimento consegue\n",
    "\n",
    "# Variáveis \n",
    "\n",
    "Quantitativas: São numéricas\n",
    "Qualitativas: Categóricas"
   ]
  },
  {
   "cell_type": "markdown",
   "metadata": {},
   "source": [
    "# Amostragem I\n",
    "\n",
    "Parte de uma população que representa o todo, e todos os elementos devem ter a mesma chance de serem selecionados\n",
    "\n",
    "- População: todo mundo\n",
    "- Amostra: subconjunto da população\n",
    "- Censo: pesquisa com toda a população\n",
    "\n",
    "> Amostra != população\n",
    "\n",
    "## Enviesamento\n",
    "\n",
    "Superestimar ou subestimar parâmetros, escolher sem ser aleatório"
   ]
  },
  {
   "cell_type": "markdown",
   "metadata": {},
   "source": [
    "# Amostragem II\n",
    "\n",
    "Normalmente nem em aplicações computacionais se usa todo o conjunto de dados.\n",
    "\n",
    "Lembrar da parte de ML onde precisa de população de teste; treino; validação\n"
   ]
  },
  {
   "cell_type": "markdown",
   "metadata": {},
   "source": [
    "# Amostragem III\n",
    "\n",
    "Existem 3 tipos principais:\n",
    "\n",
    "## Amostra aleatória simples\n",
    "\n",
    "Retirar elementos de forma aleatória da população, garantindo que todos tenham as mesmas chances de serem selecionados. \n",
    "\n",
    "Com reposição o elemento pode ser selecionado novamente, o sem reposição, não.\n",
    "\n",
    "## Amostra estratificada\n",
    "\n",
    "Classificar a população em subgrupos\n",
    "\n",
    "## Amostra sistemática\n",
    "\n",
    "Seleciona um número de pessoas de forma sequencial até um número máximo. Quando chegar nesse número máximo é sorteado outro número, e as pessoas são selecionadas de forma sequencial novamente até atingir o limite.\n",
    "\n"
   ]
  },
  {
   "cell_type": "code",
   "execution_count": 33,
   "metadata": {},
   "outputs": [
    {
     "name": "stdout",
     "output_type": "stream",
     "text": [
      "Defaulting to user installation because normal site-packages is not writeable\n",
      "Requirement already satisfied: pandas in /home/pesadaum/.local/lib/python3.8/site-packages (1.3.3)\n",
      "Requirement already satisfied: numpy>=1.17.3 in /usr/local/lib/python3.8/dist-packages (from pandas) (1.19.5)\n",
      "Requirement already satisfied: python-dateutil>=2.7.3 in /usr/lib/python3/dist-packages (from pandas) (2.7.3)\n",
      "Requirement already satisfied: pytz>=2017.3 in /usr/lib/python3/dist-packages (from pandas) (2019.3)\n",
      "Defaulting to user installation because normal site-packages is not writeable\n",
      "Requirement already satisfied: matplotlib in /usr/local/lib/python3.8/dist-packages (3.3.3)\n",
      "Requirement already satisfied: cycler>=0.10 in /usr/local/lib/python3.8/dist-packages (from matplotlib) (0.10.0)\n",
      "Requirement already satisfied: python-dateutil>=2.1 in /usr/lib/python3/dist-packages (from matplotlib) (2.7.3)\n",
      "Requirement already satisfied: kiwisolver>=1.0.1 in /usr/local/lib/python3.8/dist-packages (from matplotlib) (1.3.1)\n",
      "Requirement already satisfied: pyparsing!=2.0.4,!=2.1.2,!=2.1.6,>=2.0.3 in /usr/local/lib/python3.8/dist-packages (from matplotlib) (2.4.7)\n",
      "Requirement already satisfied: numpy>=1.15 in /usr/local/lib/python3.8/dist-packages (from matplotlib) (1.19.5)\n",
      "Requirement already satisfied: pillow>=6.2.0 in /home/pesadaum/.local/lib/python3.8/site-packages (from matplotlib) (8.3.2)\n",
      "Requirement already satisfied: six in /usr/lib/python3/dist-packages (from cycler>=0.10->matplotlib) (1.14.0)\n"
     ]
    }
   ],
   "source": [
    "!pip install pandas\n",
    "!pip install matplotlib\n"
   ]
  },
  {
   "cell_type": "code",
   "execution_count": 34,
   "metadata": {},
   "outputs": [
    {
     "data": {
      "text/plain": [
       "74"
      ]
     },
     "execution_count": 34,
     "metadata": {},
     "output_type": "execute_result"
    }
   ],
   "source": [
    "\n",
    "# Amostragem simples\n",
    "import pandas as pd\n",
    "import numpy as np\n",
    "\n",
    "df = pd.read_csv('datasets/Iris.csv')\n",
    "\n",
    "sample = np.random.choice(a = [0,1], size = 150, replace=True, p= [0.5, 0.5])\n",
    "len(sample[sample==1])\n",
    "len(sample[sample == 0])\n",
    "\n"
   ]
  },
  {
   "cell_type": "code",
   "execution_count": 35,
   "metadata": {},
   "outputs": [
    {
     "name": "stdout",
     "output_type": "stream",
     "text": [
      "Defaulting to user installation because normal site-packages is not writeable\n",
      "Requirement already satisfied: sklearn in /home/pesadaum/.local/lib/python3.8/site-packages (0.0)\n",
      "Requirement already satisfied: scikit-learn in /home/pesadaum/.local/lib/python3.8/site-packages (from sklearn) (1.0.1)\n",
      "Requirement already satisfied: threadpoolctl>=2.0.0 in /home/pesadaum/.local/lib/python3.8/site-packages (from scikit-learn->sklearn) (3.0.0)\n",
      "Requirement already satisfied: joblib>=0.11 in /home/pesadaum/.local/lib/python3.8/site-packages (from scikit-learn->sklearn) (1.1.0)\n",
      "Requirement already satisfied: numpy>=1.14.6 in /usr/local/lib/python3.8/dist-packages (from scikit-learn->sklearn) (1.19.5)\n",
      "Requirement already satisfied: scipy>=1.1.0 in /usr/local/lib/python3.8/dist-packages (from scikit-learn->sklearn) (1.6.0)\n"
     ]
    }
   ],
   "source": [
    "!pip install sklearn"
   ]
  },
  {
   "cell_type": "code",
   "execution_count": 38,
   "metadata": {},
   "outputs": [
    {
     "data": {
      "text/plain": [
       "6-11yrs    48\n",
       "12+ yrs    46\n",
       "0-5yrs      5\n",
       "Name: education, dtype: int64"
      ]
     },
     "execution_count": 38,
     "metadata": {},
     "output_type": "execute_result"
    }
   ],
   "source": [
    "\n",
    "import pandas as pd\n",
    "from sklearn.model_selection import train_test_split\n",
    "import numpy as np\n",
    "\n",
    "iris = pd.read_csv('datasets/Iris.csv')\n",
    "iris.head()\n",
    "iris['Species'].value_counts()\n",
    "\n",
    "X, _, y, _ = train_test_split(iris.iloc[:, 0:4], iris['Species'], test_size=0.5, stratify=iris['Species'])\n",
    "\n",
    "infert = pd.read_csv('datasets/infert.csv')\n",
    "infert['education'].value_counts()\n",
    "\n",
    "X1, _, y1, _ = train_test_split(infert.iloc[:, 2:9], infert['education'], test_size=0.6, stratify=infert['education'])\n",
    "\n",
    "y1.value_counts()\n"
   ]
  }
 ],
 "metadata": {
  "interpreter": {
   "hash": "916dbcbb3f70747c44a77c7bcd40155683ae19c65e1c03b4aa3499c5328201f1"
  },
  "kernelspec": {
   "display_name": "Python 3.8.10 64-bit",
   "name": "python3"
  },
  "language_info": {
   "codemirror_mode": {
    "name": "ipython",
    "version": 3
   },
   "file_extension": ".py",
   "mimetype": "text/x-python",
   "name": "python",
   "nbconvert_exporter": "python",
   "pygments_lexer": "ipython3",
   "version": "3.8.10"
  },
  "orig_nbformat": 4
 },
 "nbformat": 4,
 "nbformat_minor": 2
}
