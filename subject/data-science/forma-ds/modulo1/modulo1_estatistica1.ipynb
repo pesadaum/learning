{
 "cells": [
  {
   "cell_type": "markdown",
   "metadata": {},
   "source": [
    "# Estatística\n",
    "\n",
    "3 tipos:\n",
    "\n",
    "- Descritiva: organizar e resumir dados\n",
    "- probabilidade: avaliar o acaso\n",
    "- inferência: tirar resultados do todo observando as partes\n",
    "\n",
    "# Observação e experimento\n",
    "\n",
    "a observação não consegue verificar causa e efeito, experimento consegue\n",
    "\n",
    "# Variáveis \n",
    "\n",
    "Quantitativas: São numéricas\n",
    "Qualitativas: Categóricas"
   ]
  },
  {
   "cell_type": "markdown",
   "metadata": {},
   "source": [
    "# Amostragem I\n",
    "\n",
    "Parte de uma população que representa o todo, e todos os elementos devem ter a mesma chance de serem selecionados\n",
    "\n",
    "- População: todo mundo\n",
    "- Amostra: subconjunto da população\n",
    "- Censo: pesquisa com toda a população\n",
    "\n",
    "> Amostra != população\n",
    "\n",
    "## Enviesamento\n",
    "\n",
    "Superestimar ou subestimar parâmetros, escolher sem ser aleatório"
   ]
  },
  {
   "cell_type": "markdown",
   "metadata": {},
   "source": [
    "# Amostragem II\n",
    "\n",
    "Normalmente nem em aplicações computacionais se usa todo o conjunto de dados.\n",
    "\n",
    "Lembrar da parte de ML onde precisa de população de teste; treino; validação\n"
   ]
  },
  {
   "cell_type": "markdown",
   "metadata": {},
   "source": [
    "# Amostragem III\n",
    "\n",
    "Existem 3 tipos principais:\n",
    "\n",
    "## Amostra aleatória simples\n",
    "\n",
    "Retirar elementos de forma aleatória da população, garantindo que todos tenham as mesmas chances de serem selecionados. \n",
    "\n",
    "Com reposição o elemento pode ser selecionado novamente, o sem reposição, não.\n",
    "\n",
    "## Amostra estratificada\n",
    "\n",
    "Classificar a população em subgrupos\n",
    "\n",
    "## Amostra sistemática\n",
    "\n",
    "Seleciona um número de pessoas de forma sequencial até um número máximo. Quando chegar nesse número máximo é sorteado outro número, e as pessoas são selecionadas de forma sequencial novamente até atingir o limite.\n",
    "\n"
   ]
  },
  {
   "cell_type": "code",
   "execution_count": 40,
   "metadata": {},
   "outputs": [
    {
     "name": "stdout",
     "output_type": "stream",
     "text": [
      "Defaulting to user installation because normal site-packages is not writeable\n",
      "Requirement already satisfied: pandas in /home/pesadaum/.local/lib/python3.8/site-packages (1.3.3)\n",
      "Requirement already satisfied: numpy>=1.17.3 in /usr/local/lib/python3.8/dist-packages (from pandas) (1.19.5)\n",
      "Requirement already satisfied: python-dateutil>=2.7.3 in /usr/lib/python3/dist-packages (from pandas) (2.7.3)\n",
      "Requirement already satisfied: pytz>=2017.3 in /usr/lib/python3/dist-packages (from pandas) (2019.3)\n",
      "Defaulting to user installation because normal site-packages is not writeable\n",
      "Requirement already satisfied: matplotlib in /usr/local/lib/python3.8/dist-packages (3.3.3)\n",
      "Requirement already satisfied: pillow>=6.2.0 in /home/pesadaum/.local/lib/python3.8/site-packages (from matplotlib) (8.3.2)\n",
      "Requirement already satisfied: numpy>=1.15 in /usr/local/lib/python3.8/dist-packages (from matplotlib) (1.19.5)\n",
      "Requirement already satisfied: pyparsing!=2.0.4,!=2.1.2,!=2.1.6,>=2.0.3 in /usr/local/lib/python3.8/dist-packages (from matplotlib) (2.4.7)\n",
      "Requirement already satisfied: kiwisolver>=1.0.1 in /usr/local/lib/python3.8/dist-packages (from matplotlib) (1.3.1)\n",
      "Requirement already satisfied: cycler>=0.10 in /usr/local/lib/python3.8/dist-packages (from matplotlib) (0.10.0)\n",
      "Requirement already satisfied: python-dateutil>=2.1 in /usr/lib/python3/dist-packages (from matplotlib) (2.7.3)\n",
      "Requirement already satisfied: six in /usr/lib/python3/dist-packages (from cycler>=0.10->matplotlib) (1.14.0)\n"
     ]
    }
   ],
   "source": [
    "!pip install pandas\n",
    "!pip install matplotlib\n"
   ]
  },
  {
   "cell_type": "code",
   "execution_count": 41,
   "metadata": {},
   "outputs": [
    {
     "data": {
      "text/plain": [
       "73"
      ]
     },
     "execution_count": 41,
     "metadata": {},
     "output_type": "execute_result"
    }
   ],
   "source": [
    "\n",
    "# Amostragem simples\n",
    "import pandas as pd\n",
    "import numpy as np\n",
    "\n",
    "df = pd.read_csv('datasets/Iris.csv')\n",
    "\n",
    "sample = np.random.choice(a = [0,1], size = 150, replace=True, p= [0.5, 0.5])\n",
    "len(sample[sample==1])\n",
    "len(sample[sample == 0])"
   ]
  },
  {
   "cell_type": "code",
   "execution_count": 42,
   "metadata": {},
   "outputs": [
    {
     "name": "stdout",
     "output_type": "stream",
     "text": [
      "Defaulting to user installation because normal site-packages is not writeable\n",
      "Requirement already satisfied: sklearn in /home/pesadaum/.local/lib/python3.8/site-packages (0.0)\n",
      "Requirement already satisfied: scikit-learn in /home/pesadaum/.local/lib/python3.8/site-packages (from sklearn) (1.0.1)\n",
      "Requirement already satisfied: scipy>=1.1.0 in /usr/local/lib/python3.8/dist-packages (from scikit-learn->sklearn) (1.6.0)\n",
      "Requirement already satisfied: joblib>=0.11 in /home/pesadaum/.local/lib/python3.8/site-packages (from scikit-learn->sklearn) (1.1.0)\n",
      "Requirement already satisfied: threadpoolctl>=2.0.0 in /home/pesadaum/.local/lib/python3.8/site-packages (from scikit-learn->sklearn) (3.0.0)\n",
      "Requirement already satisfied: numpy>=1.14.6 in /usr/local/lib/python3.8/dist-packages (from scikit-learn->sklearn) (1.19.5)\n"
     ]
    }
   ],
   "source": [
    "!pip install sklearn"
   ]
  },
  {
   "cell_type": "code",
   "execution_count": 44,
   "metadata": {},
   "outputs": [
    {
     "data": {
      "text/plain": [
       "6-11yrs    48\n",
       "12+ yrs    46\n",
       "0-5yrs      5\n",
       "Name: education, dtype: int64"
      ]
     },
     "execution_count": 44,
     "metadata": {},
     "output_type": "execute_result"
    }
   ],
   "source": [
    "\n",
    "# amostragem estratificada\n",
    "import pandas as pd\n",
    "from sklearn.model_selection import train_test_split\n",
    "\n",
    "iris = pd.read_csv('datasets/Iris.csv')\n",
    "iris.head()\n",
    "iris['Species'].value_counts()\n",
    "\n",
    "X, _, y, _ = train_test_split(iris.iloc[:, 0:4], iris['Species'], test_size=0.5, stratify=iris['Species'])\n",
    "\n",
    "infert = pd.read_csv('datasets/infert.csv')\n",
    "infert['education'].value_counts()\n",
    "\n",
    "X1, _, y1, _ = train_test_split(infert.iloc[:, 2:9], infert['education'], test_size=0.6, stratify=infert['education'])\n",
    "\n",
    "y1.value_counts()"
   ]
  },
  {
   "cell_type": "code",
   "execution_count": 10,
   "metadata": {},
   "outputs": [],
   "source": [
    "# Amostragem sistemática\n",
    "import pandas as pd\n",
    "import numpy as np\n",
    "from math import ceil\n",
    "\n",
    "population = 150\n",
    "sample = 15\n",
    "k = ceil(population/sample)\n",
    "\n",
    "r = np.random.randint(low = 1, high = k+1, size = 1)\n",
    "\n",
    "acc = r[0]\n",
    "sort = []\n",
    "\n",
    "for i in range(sample):\n",
    "    sort.append(acc)\n",
    "    acc += k\n",
    "\n",
    "df = pd.read_csv('datasets/Iris.csv')\n",
    "data = df.loc[sort]"
   ]
  },
  {
   "cell_type": "markdown",
   "metadata": {},
   "source": [
    "# Centralidade\n",
    "\n",
    "## média\n",
    "\n",
    "Da população:\n",
    "\n",
    "$ \\mu = \\frac{\\sum x}{N} $\n",
    "\n",
    "Da amostra:\n",
    "\n",
    "$\\bar{X} = \\frac{\\sum x}{n -1}$\n",
    "\n",
    "## moda\n",
    "\n",
    "Valor mais frequente\n",
    "\n",
    "## Mediana\n",
    "\n",
    "valor do meio com o vetor de valores ordenado crescentemente\n",
    "\n",
    "Se o número de elementos for ímpar basta pegar o valor $(n/2 + n+1/2)/2$\n",
    "\n",
    "# Variabilidade\n",
    "\n",
    "## Variância\n",
    "\n",
    "Distância entre os dados **em relação à média**\n",
    "\n",
    "Da população:\n",
    "\n",
    "$\\sigma^2 = \\frac{\\sum(x_i - \\bar{x})^2}{N}$\n",
    "\n",
    "Da amostra:\n",
    "\n",
    "$s^2 = \\frac{\\sum(x_i - \\bar{x})^2}{n}$\n",
    "\n",
    "## Desvio padrão\n",
    "\n",
    "Raiz da variância\n",
    "\n",
    "\n",
    "## Amplitude\n",
    "\n",
    "Diferença entre o maior e menor valor\n",
    "\n",
    "## Quartis\n",
    "\n",
    "Divide os dados em 4 partes para avaliar de forma mais uniforme\n"
   ]
  },
  {
   "cell_type": "code",
   "execution_count": 1,
   "metadata": {},
   "outputs": [
    {
     "data": {
      "text/plain": [
       "DescribeResult(nobs=9, minmax=(12000, 800000), mean=181111.11111111112, variance=65182111111.11111, skewness=1.758635899846188, kurtosis=1.9572075427527729)"
      ]
     },
     "execution_count": 1,
     "metadata": {},
     "output_type": "execute_result"
    }
   ],
   "source": [
    "# Centralidade e variabilidade\n",
    "import numpy as np\n",
    "from scipy import stats\n",
    "\n",
    "players = [40000, 18000, 12000, 250000, 30000, 140000, 300000, 40000, 800000]\n",
    "\n",
    "np.mean(players)\n",
    "np.median(players)\n",
    "\n",
    "quantiles = np.quantile(players, [0, .25, .5, .75, 1])\n",
    "\n",
    "np.std(players, ddof=1)\n",
    "\n",
    "stats.describe(players)\n"
   ]
  },
  {
   "cell_type": "markdown",
   "metadata": {},
   "source": [
    "# Probabilidade\n",
    "\n",
    "Probabilidade (P):\n",
    "\n",
    "$0 < P < 1$\n",
    "\n",
    "- P = 0: evento impossível\n",
    "- P = 1: evento certo\n",
    "\n",
    "Termos:\n",
    "\n",
    "- Experimento: o que está sendo estudado\n",
    "- Espaço amostral: possibilidades\n",
    "- Evento: resultado do experimento\n",
    "\n",
    "Excludentes e não excludentes:\n",
    "\n",
    "- Excludente: não ocorrem 2 eventos distintos ao mesmo tempo -> somam-se as probabilidades \n",
    "- Não-Excludente: ocorrem 2 eventos distintos ao mesmo tempo -> diminui-se as probabilidades simultâneas\n",
    "\n",
    "Nos eventos dependentes e independentes:\n",
    "\n",
    "- Independentes: multiplicam-se as probabilidades (ex tirar 3 no dado 4 vezes seguidas)\n",
    "- Dependentes: também multiplicam-se as probabilidades mas o espaço amostral muda (ex tirar 2 e depois 3 no baralho sem repor as cartas)\n",
    "\n"
   ]
  },
  {
   "cell_type": "markdown",
   "metadata": {},
   "source": [
    "# Distribuições\n",
    "\n",
    "Forma de distribuir os dados, mostrar frequência de ocorrencias\n",
    "\n",
    "## Distribuição binomial\n",
    "\n",
    "É discreta. Seus pré-requisitos são:\n",
    "\n",
    "- Numero fixo de experimentos\n",
    "- 2 resultados (true ou false)\n",
    "- probabilidade de sucesso deve ser a mesma por experimento\n",
    "- experimentos independentes\n",
    "\n",
    "Convenções: \n",
    "\n",
    "- $X = $ total de sucesso\n",
    "- $p = $ probabilidade de sucesso\n",
    "- $n = $ número de experimentos\n",
    "- $1-p=$ probabilidade de fracasso\n",
    "\n",
    "A fórmula para calcular pela distribuição binomial é:\n",
    "\n",
    "$$ f(x) = \\binom{n}{x} p^x(1-p)^{(n-x)} $$ \n",
    "\n",
    "onde:\n",
    "\n",
    "$$  \\binom{n}{x} = \\frac{n!}{k!(n-k)!}$$\n",
    "\n",
    "\n",
    "### Exemplo\n",
    "\n",
    "Jogando uma moeda 5 vezes, qual a chance de dar cara 3 vezes?\n",
    "\n",
    "$$f(x) =  \\binom{5}{3} 0.5^x(1-0.5)^{(5-3)}$$\n",
    "\n",
    "Calculando isso tudo aí na calculadora dá:\n",
    "\n",
    "$$f(x) = 0.3125$$\n",
    "\n",
    "\n"
   ]
  },
  {
   "cell_type": "code",
   "execution_count": 17,
   "metadata": {},
   "outputs": [
    {
     "name": "stdout",
     "output_type": "stream",
     "text": [
      "p = 0.3125\n",
      "p = 0.31640625000000006\n",
      "p = 0.4218750000000001\n",
      "p = 0.21093750000000006\n",
      "p = 0.046875000000000035\n",
      "p = 0.003906250000000001\n",
      "Prob. comulativa = 1.0\n"
     ]
    }
   ],
   "source": [
    "# Distribuição binomial\n",
    "from scipy.stats import binom\n",
    "\n",
    "p = binom.pmf(3, 5, 0.5) # o binômio aqui é invertido (?)\n",
    "print(f'p = {p}')\n",
    "\n",
    "for i in range(5):\n",
    "  print(f'p = {binom.pmf(i, 4, 0.25)}')\n",
    "\n",
    "print(f'Prob. comulativa = {binom.cdf(4, 4, 0.25)}')"
   ]
  },
  {
   "cell_type": "markdown",
   "metadata": {},
   "source": [
    "## Distribuição normal\n",
    "\n",
    "Maioria dos dados ficam ao centro, sendo 68% deles em cerca de $\\pm 1\\sigma$\n",
    "\n",
    "### Teorema central do limite\n",
    "\n",
    "Conforme o o tamanho da amostra aumenta, as médias amostrais se aproximam da distribuição normal\n",
    "\n",
    "Independente da distribuição dos dados as médias estão uniformemente distribuidas.\n",
    "\n",
    "## Normal padrão\n",
    "\n",
    "Mostra o valor normalizado:\n",
    "\n",
    "$$ Z = \\frac{X - \\mu}{\\sigma}$$\n",
    "\n",
    "Características: \n",
    "\n",
    "- Média zero\n",
    "- Desvio padrão 1\n",
    "\n",
    "### Exemplo\n",
    "\n",
    "- Numa cesta há objetos com pesos normalmente distribuídos, com média 8 e desvio padrão 2. Qual a chance de tirar um objeto de menos de 6kg?\n",
    "\n",
    "Usando a normal padronizada:\n",
    "\n",
    "$$ Z = \\frac{X - \\mu}{\\sigma} \\quad \\to \\quad Z = \\frac{6 - 8}{2} = -1$$\n",
    "\n",
    "Procurando -1 na tabela de desvios obtemos:\n",
    "\n",
    "$$P = 0.1587$$\n",
    "\n",
    "- Qual a chance de tirar um objeto com menos de 6kg ou mais de 10kg?\n",
    "\n",
    "Calcula a probabilidade para cada condição e depois soma pois é um OU\n",
    "\n",
    "## Verificando a normalidade da distribuição\n",
    "\n",
    "- A maneira mais fácil de verificar é fazendo um histograma dos dados, para verificar a frequência de ocorrência de cada.\n",
    "- Gerar diagrama de probabilidade normal, fica uma reta se for normal.\n",
    "- Teste de Shapiro-Wilk (?)"
   ]
  },
  {
   "cell_type": "code",
   "execution_count": 16,
   "metadata": {},
   "outputs": [
    {
     "name": "stdout",
     "output_type": "stream",
     "text": [
      "greater_6=0.8413447460685429, less_6=0.15865525393145707, less_6_greater_10=0.31731050786291415, between_8_10=0.3413447460685429\n"
     ]
    }
   ],
   "source": [
    "# Distribuição normal\n",
    "from scipy.stats import norm\n",
    "\n",
    "# peso menor do que 6kg\n",
    "less_6 = norm.cdf(6, 8, 2)\n",
    "\n",
    "# peso maior do que 6kg\n",
    "greater_6 = norm.sf(6,8,2)\n",
    "\n",
    "# menor que 6 ou maior que 10\n",
    "less_6_greater_10 = less_6 + norm.sf(10,8,2)\n",
    "\n",
    "# entre 8 e 10:\n",
    "between_8_10 = norm.sf(8, 8, 2) - norm.sf(10, 8, 2)\n",
    "\n",
    "print(f'{greater_6=}, {less_6=}, {less_6_greater_10=}, {between_8_10=}')"
   ]
  },
  {
   "cell_type": "code",
   "execution_count": 15,
   "metadata": {},
   "outputs": [
    {
     "data": {
      "image/png": "[encoded data removed]",
      "text/plain": [
       "<Figure size 432x288 with 1 Axes>"
      ]
     },
     "metadata": {
      "needs_background": "light"
     },
     "output_type": "display_data"
    },
    {
     "data": {
      "text/plain": [
       "((array([-2.46203784, -2.12570747, -1.93122778, -1.79044653, -1.67819304,\n",
       "         -1.58381122, -1.50174123, -1.42869743, -1.36256869, -1.30191411,\n",
       "         -1.24570419, -1.19317644, -1.14374949, -1.09696931, -1.05247413,\n",
       "         -1.00997067, -0.96921765, -0.93001393, -0.89218993, -0.85560121,\n",
       "         -0.82012357, -0.78564937, -0.75208458, -0.71934648, -0.68736185,\n",
       "         -0.65606548, -0.62539893, -0.59530962, -0.56574992, -0.53667655,\n",
       "         -0.50804994, -0.47983378, -0.45199463, -0.42450149, -0.39732558,\n",
       "         -0.37044003, -0.34381966, -0.31744076, -0.29128096, -0.26531902,\n",
       "         -0.23953472, -0.21390872, -0.18842244, -0.16305799, -0.13779803,\n",
       "         -0.1126257 , -0.08752455, -0.06247843, -0.03747145, -0.01248789,\n",
       "          0.01248789,  0.03747145,  0.06247843,  0.08752455,  0.1126257 ,\n",
       "          0.13779803,  0.16305799,  0.18842244,  0.21390872,  0.23953472,\n",
       "          0.26531902,  0.29128096,  0.31744076,  0.34381966,  0.37044003,\n",
       "          0.39732558,  0.42450149,  0.45199463,  0.47983378,  0.50804994,\n",
       "          0.53667655,  0.56574992,  0.59530962,  0.62539893,  0.65606548,\n",
       "          0.68736185,  0.71934648,  0.75208458,  0.78564937,  0.82012357,\n",
       "          0.85560121,  0.89218993,  0.93001393,  0.96921765,  1.00997067,\n",
       "          1.05247413,  1.09696931,  1.14374949,  1.19317644,  1.24570419,\n",
       "          1.30191411,  1.36256869,  1.42869743,  1.50174123,  1.58381122,\n",
       "          1.67819304,  1.79044653,  1.93122778,  2.12570747,  2.46203784]),\n",
       "  array([-3.27107052, -2.21869872, -1.80904408, -1.80749837, -1.72145687,\n",
       "         -1.57621473, -1.53458677, -1.43965473, -1.43893135, -1.42993693,\n",
       "         -1.3848139 , -1.29733538, -1.29501848, -1.2886336 , -1.15055089,\n",
       "         -1.10161234, -1.08637899, -1.06690111, -1.04067864, -1.0143784 ,\n",
       "         -0.95624752, -0.92652383, -0.82923538, -0.8168424 , -0.77164982,\n",
       "         -0.72255193, -0.69084424, -0.68648737, -0.67759304, -0.65094494,\n",
       "         -0.60652406, -0.58840816, -0.54600976, -0.53809342, -0.50764605,\n",
       "         -0.47421812, -0.43205154, -0.32342933, -0.29392151, -0.28593766,\n",
       "         -0.19807225, -0.17536285, -0.16321753, -0.15872804, -0.14726528,\n",
       "         -0.13542097, -0.13362618, -0.1267829 , -0.12190201, -0.09599239,\n",
       "         -0.0911911 , -0.03814512,  0.02983187,  0.03171668,  0.03275305,\n",
       "          0.05639878,  0.12985763,  0.1472112 ,  0.15230458,  0.1640527 ,\n",
       "          0.19916765,  0.20962717,  0.2129104 ,  0.21684272,  0.28339382,\n",
       "          0.31117486,  0.32349855,  0.36949211,  0.41191549,  0.41360711,\n",
       "          0.4995263 ,  0.5230499 ,  0.56866517,  0.69280797,  0.69484222,\n",
       "          0.6973429 ,  0.71071021,  0.74591909,  0.76152694,  0.77018194,\n",
       "          0.99904276,  1.00576341,  1.06682013,  1.09104683,  1.09134162,\n",
       "          1.12073288,  1.12540468,  1.12719665,  1.12774284,  1.13153267,\n",
       "          1.13957585,  1.15509578,  1.21766218,  1.27356861,  1.38609021,\n",
       "          1.57973444,  1.58594729,  1.60370628,  2.39850073,  2.60943752])),\n",
       " (1.0313394064438504, -0.0668798916295137, 0.9939272570151577))"
      ]
     },
     "execution_count": 15,
     "metadata": {},
     "output_type": "execute_result"
    },
    {
     "data": {
      "image/png": "[encoded data removed]",
      "text/plain": [
       "<Figure size 432x288 with 1 Axes>"
      ]
     },
     "metadata": {
      "needs_background": "light"
     },
     "output_type": "display_data"
    }
   ],
   "source": [
    "# teste normal\n",
    "from scipy import stats\n",
    "from scipy.stats import norm\n",
    "import matplotlib.pyplot as plt\n",
    "\n",
    "data = norm.rvs(size = 100)\n",
    "\n",
    "plt.hist(data)\n",
    "plt.show()\n",
    "plt.clf()\n",
    "\n",
    "stats.probplot(data, plot = plt)"
   ]
  },
  {
   "cell_type": "markdown",
   "metadata": {},
   "source": [
    "# Intervalos de confiança\n",
    "\n",
    "Para representar a população por meio da amostra é preciso cuidado pois os dados podem ficar enviesados, ruins e está sujeito à um erro padrão.\n",
    "\n",
    "Usando amostra devemos esperar variação entre amostras. É possível medir a variação esperada\n",
    "\n",
    "- Intervalo de confiança é usado para estimar o erro\n",
    "- parâmetro é o valor a ser estimado\n",
    "- margem de erro é a variabilidade em $\\pm$\n",
    "- nível de confiança é de 80% a 99%\n",
    "- tamanho da amostra é (n)\n",
    "\n",
    "A compensação consiste em aumentar alguns parâmetros:\n",
    "\n",
    "- aumentar o nível de confiança aumenta o erro padrão\n",
    "- aumentar o tamanho da amostra reduz o erro padrão\n",
    "\n",
    "Existem 2 tipos de intervalo de confiança:\n",
    "\n",
    "- para a média\n",
    "- para a proporção\n",
    "\n",
    "## Exemplo - intervalo para a média\n",
    "\n",
    "Estimar o salário médio de um cientista de dados.\n",
    "\n",
    "- 100 pesquisados (escolha)\n",
    "- Intervalo de confiança: 95% (escolha)\n",
    "- desvio padrão = 1100 (calculado)\n",
    "- média = 5800 (calculado)\n",
    "- valor $Z^*$ = 1.96 (tabelado)\n",
    "- margem de erro = \n",
    "$$\\bar{X} \\pm Z \\cdot \\frac{\\sigma}{\\sqrt{n}} = \\pm 215.60$$\n",
    "\n",
    "Assim, o salário médio é de R\\$ $5800,00\\pm 215.60$ com um nível de confiança de 95%\n",
    "\n",
    "## Exemplo - intervalo para a proporção\n",
    "\n",
    "Estimar a proporção de eleitores que pretendem votar em ABC para prefeito\n",
    "\n",
    "- 1000 pesquisados\n",
    "- intervalo de confiança = 95%\n",
    "- 650 votam em ABC = 0.65\n",
    "- 330 votam em DEF = 0.33\n",
    "- 20 não votam em nenhum = 0.02\n",
    "- $Z^* = 1.96$\n",
    "\n",
    "calculando o intervalo para a proporção:\n",
    "\n",
    "$$ \\hat{p} \\pm Z \\cdot \\sqrt{\\frac{\\hat{p}(1 - \\hat{p})}{n}} \\to \\hat{p} \\pm 0.03 $$\n",
    "\n",
    "Assim, $68\\% \\pm 3\\%$ votam em ABC"
   ]
  }
 ],
 "metadata": {
  "interpreter": {
   "hash": "916dbcbb3f70747c44a77c7bcd40155683ae19c65e1c03b4aa3499c5328201f1"
  },
  "kernelspec": {
   "display_name": "Python 3.8.10 64-bit",
   "name": "python3"
  },
  "language_info": {
   "codemirror_mode": {
    "name": "ipython",
    "version": 3
   },
   "file_extension": ".py",
   "mimetype": "text/x-python",
   "name": "python",
   "nbconvert_exporter": "python",
   "pygments_lexer": "ipython3",
   "version": "3.8.10"
  },
  "orig_nbformat": 4
 },
 "nbformat": 4,
 "nbformat_minor": 2
}
