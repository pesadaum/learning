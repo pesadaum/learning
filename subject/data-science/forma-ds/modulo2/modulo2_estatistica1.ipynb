{
 "cells": [
  {
   "cell_type": "markdown",
   "metadata": {},
   "source": [
    "# Estatística\n",
    "\n",
    "3 tipos:\n",
    "\n",
    "- Descritiva: organizar e resumir dados\n",
    "- probabilidade: avaliar o acaso\n",
    "- inferência: tirar resultados do todo observando as partes\n",
    "\n",
    "# Observação e experimento\n",
    "\n",
    "a observação não consegue verificar causa e efeito, experimento consegue\n",
    "\n",
    "# Variáveis \n",
    "\n",
    "Quantitativas: São numéricas\n",
    "Qualitativas: Categóricas"
   ]
  },
  {
   "cell_type": "markdown",
   "metadata": {},
   "source": [
    "# Amostragem I\n",
    "\n",
    "Parte de uma população que representa o todo, e todos os elementos devem ter a mesma chance de serem selecionados\n",
    "\n",
    "- População: todo mundo\n",
    "- Amostra: subconjunto da população\n",
    "- Censo: pesquisa com toda a população\n",
    "\n",
    "> Amostra != população\n",
    "\n",
    "## Enviesamento\n",
    "\n",
    "Superestimar ou subestimar parâmetros, escolher sem ser aleatório"
   ]
  },
  {
   "cell_type": "markdown",
   "metadata": {},
   "source": [
    "# Amostragem II\n",
    "\n",
    "Normalmente nem em aplicações computacionais se usa todo o conjunto de dados.\n",
    "\n",
    "Lembrar da parte de ML onde precisa de população de teste; treino; validação\n"
   ]
  },
  {
   "cell_type": "markdown",
   "metadata": {},
   "source": [
    "# Amostragem III\n",
    "\n",
    "Existem 3 tipos principais:\n",
    "\n",
    "## Amostra aleatória simples\n",
    "\n",
    "Retirar elementos de forma aleatória da população, garantindo que todos tenham as mesmas chances de serem selecionados. \n",
    "\n",
    "Com reposição o elemento pode ser selecionado novamente, o sem reposição, não.\n",
    "\n",
    "## Amostra estratificada\n",
    "\n",
    "Classificar a população em subgrupos\n",
    "\n",
    "## Amostra sistemática\n",
    "\n",
    "Seleciona um número de pessoas de forma sequencial até um número máximo. Quando chegar nesse número máximo é sorteado outro número, e as pessoas são selecionadas de forma sequencial novamente até atingir o limite.\n",
    "\n"
   ]
  },
  {
   "cell_type": "code",
   "execution_count": 3,
   "metadata": {},
   "outputs": [
    {
     "name": "stdout",
     "output_type": "stream",
     "text": [
      "Defaulting to user installation because normal site-packages is not writeable\n",
      "Requirement already satisfied: pandas in /home/pesadaum/.local/lib/python3.8/site-packages (1.3.3)\n",
      "Requirement already satisfied: python-dateutil>=2.7.3 in /usr/lib/python3/dist-packages (from pandas) (2.7.3)\n",
      "Requirement already satisfied: numpy>=1.17.3 in /usr/local/lib/python3.8/dist-packages (from pandas) (1.19.5)\n",
      "Requirement already satisfied: pytz>=2017.3 in /usr/lib/python3/dist-packages (from pandas) (2019.3)\n",
      "Defaulting to user installation because normal site-packages is not writeable\n",
      "Requirement already satisfied: matplotlib in /usr/local/lib/python3.8/dist-packages (3.3.3)\n",
      "Requirement already satisfied: pillow>=6.2.0 in /home/pesadaum/.local/lib/python3.8/site-packages (from matplotlib) (8.3.2)\n",
      "Requirement already satisfied: numpy>=1.15 in /usr/local/lib/python3.8/dist-packages (from matplotlib) (1.19.5)\n",
      "Requirement already satisfied: python-dateutil>=2.1 in /usr/lib/python3/dist-packages (from matplotlib) (2.7.3)\n",
      "Requirement already satisfied: cycler>=0.10 in /usr/local/lib/python3.8/dist-packages (from matplotlib) (0.10.0)\n",
      "Requirement already satisfied: pyparsing!=2.0.4,!=2.1.2,!=2.1.6,>=2.0.3 in /usr/local/lib/python3.8/dist-packages (from matplotlib) (2.4.7)\n",
      "Requirement already satisfied: kiwisolver>=1.0.1 in /usr/local/lib/python3.8/dist-packages (from matplotlib) (1.3.1)\n",
      "Requirement already satisfied: six in /usr/lib/python3/dist-packages (from cycler>=0.10->matplotlib) (1.14.0)\n"
     ]
    }
   ],
   "source": [
    "!pip install pandas\n",
    "!pip install matplotlib\n"
   ]
  },
  {
   "cell_type": "code",
   "execution_count": 4,
   "metadata": {},
   "outputs": [
    {
     "data": {
      "text/plain": [
       "84"
      ]
     },
     "execution_count": 4,
     "metadata": {},
     "output_type": "execute_result"
    }
   ],
   "source": [
    "\n",
    "# Amostragem simples\n",
    "import pandas as pd\n",
    "import numpy as np\n",
    "\n",
    "df = pd.read_csv('datasets/Iris.csv')\n",
    "\n",
    "sample = np.random.choice(a = [0,1], size = 150, replace=True, p= [0.5, 0.5])\n",
    "len(sample[sample==1])\n",
    "len(sample[sample == 0])"
   ]
  },
  {
   "cell_type": "code",
   "execution_count": 5,
   "metadata": {},
   "outputs": [
    {
     "name": "stdout",
     "output_type": "stream",
     "text": [
      "Defaulting to user installation because normal site-packages is not writeable\n",
      "Requirement already satisfied: sklearn in /home/pesadaum/.local/lib/python3.8/site-packages (0.0)\n",
      "Requirement already satisfied: scikit-learn in /home/pesadaum/.local/lib/python3.8/site-packages (from sklearn) (1.0.1)\n",
      "Requirement already satisfied: joblib>=0.11 in /home/pesadaum/.local/lib/python3.8/site-packages (from scikit-learn->sklearn) (1.1.0)\n",
      "Requirement already satisfied: threadpoolctl>=2.0.0 in /home/pesadaum/.local/lib/python3.8/site-packages (from scikit-learn->sklearn) (3.0.0)\n",
      "Requirement already satisfied: scipy>=1.1.0 in /usr/local/lib/python3.8/dist-packages (from scikit-learn->sklearn) (1.6.0)\n",
      "Requirement already satisfied: numpy>=1.14.6 in /usr/local/lib/python3.8/dist-packages (from scikit-learn->sklearn) (1.19.5)\n"
     ]
    }
   ],
   "source": [
    "!pip install sklearn"
   ]
  },
  {
   "cell_type": "code",
   "execution_count": 6,
   "metadata": {},
   "outputs": [
    {
     "data": {
      "text/plain": [
       "6-11yrs    48\n",
       "12+ yrs    46\n",
       "0-5yrs      5\n",
       "Name: education, dtype: int64"
      ]
     },
     "execution_count": 6,
     "metadata": {},
     "output_type": "execute_result"
    }
   ],
   "source": [
    "\n",
    "# amostragem estratificada\n",
    "import pandas as pd\n",
    "from sklearn.model_selection import train_test_split\n",
    "\n",
    "iris = pd.read_csv('datasets/Iris.csv')\n",
    "iris.head()\n",
    "iris['Species'].value_counts()\n",
    "\n",
    "X, _, y, _ = train_test_split(iris.iloc[:, 0:4], iris['Species'], test_size=0.5, stratify=iris['Species'])\n",
    "\n",
    "infert = pd.read_csv('datasets/infert.csv')\n",
    "infert['education'].value_counts()\n",
    "\n",
    "X1, _, y1, _ = train_test_split(infert.iloc[:, 2:9], infert['education'], test_size=0.6, stratify=infert['education'])\n",
    "\n",
    "y1.value_counts()"
   ]
  },
  {
   "cell_type": "code",
   "execution_count": 7,
   "metadata": {},
   "outputs": [],
   "source": [
    "# Amostragem sistemática\n",
    "import pandas as pd\n",
    "import numpy as np\n",
    "from math import ceil\n",
    "\n",
    "population = 150\n",
    "sample = 15\n",
    "k = ceil(population/sample)\n",
    "\n",
    "r = np.random.randint(low = 1, high = k+1, size = 1)\n",
    "\n",
    "acc = r[0]\n",
    "sort = []\n",
    "\n",
    "for i in range(sample):\n",
    "    sort.append(acc)\n",
    "    acc += k\n",
    "\n",
    "df = pd.read_csv('datasets/Iris.csv')\n",
    "data = df.loc[sort]"
   ]
  },
  {
   "cell_type": "markdown",
   "metadata": {},
   "source": [
    "# Centralidade\n",
    "\n",
    "## média\n",
    "\n",
    "Da população:\n",
    "\n",
    "$ \\mu = \\frac{\\sum x}{N} $\n",
    "\n",
    "Da amostra:\n",
    "\n",
    "$\\bar{X} = \\frac{\\sum x}{n -1}$\n",
    "\n",
    "## moda\n",
    "\n",
    "Valor mais frequente\n",
    "\n",
    "## Mediana\n",
    "\n",
    "valor do meio com o vetor de valores ordenado crescentemente\n",
    "\n",
    "Se o número de elementos for ímpar basta pegar o valor $(n/2 + n+1/2)/2$\n",
    "\n",
    "# Variabilidade\n",
    "\n",
    "## Variância\n",
    "\n",
    "Distância entre os dados **em relação à média**\n",
    "\n",
    "Da população:\n",
    "\n",
    "$\\sigma^2 = \\frac{\\sum(x_i - \\bar{x})^2}{N}$\n",
    "\n",
    "Da amostra:\n",
    "\n",
    "$s^2 = \\frac{\\sum(x_i - \\bar{x})^2}{n}$\n",
    "\n",
    "## Desvio padrão\n",
    "\n",
    "Raiz da variância\n",
    "\n",
    "\n",
    "## Amplitude\n",
    "\n",
    "Diferença entre o maior e menor valor\n",
    "\n",
    "## Quartis\n",
    "\n",
    "Divide os dados em 4 partes para avaliar de forma mais uniforme\n"
   ]
  },
  {
   "cell_type": "code",
   "execution_count": 8,
   "metadata": {},
   "outputs": [
    {
     "data": {
      "text/plain": [
       "DescribeResult(nobs=9, minmax=(12000, 800000), mean=181111.11111111112, variance=65182111111.11111, skewness=1.758635899846188, kurtosis=1.9572075427527729)"
      ]
     },
     "execution_count": 8,
     "metadata": {},
     "output_type": "execute_result"
    }
   ],
   "source": [
    "# Centralidade e variabilidade\n",
    "import numpy as np\n",
    "from scipy import stats\n",
    "\n",
    "players = [40000, 18000, 12000, 250000, 30000, 140000, 300000, 40000, 800000]\n",
    "\n",
    "np.mean(players)\n",
    "np.median(players)\n",
    "\n",
    "quantiles = np.quantile(players, [0, .25, .5, .75, 1])\n",
    "\n",
    "np.std(players, ddof=1)\n",
    "\n",
    "stats.describe(players)\n"
   ]
  },
  {
   "cell_type": "markdown",
   "metadata": {},
   "source": [
    "# Probabilidade\n",
    "\n",
    "Probabilidade (P):\n",
    "\n",
    "$0 < P < 1$\n",
    "\n",
    "- P = 0: evento impossível\n",
    "- P = 1: evento certo\n",
    "\n",
    "Termos:\n",
    "\n",
    "- Experimento: o que está sendo estudado\n",
    "- Espaço amostral: possibilidades\n",
    "- Evento: resultado do experimento\n",
    "\n",
    "Excludentes e não excludentes:\n",
    "\n",
    "- Excludente: não ocorrem 2 eventos distintos ao mesmo tempo -> somam-se as probabilidades \n",
    "- Não-Excludente: ocorrem 2 eventos distintos ao mesmo tempo -> diminui-se as probabilidades simultâneas\n",
    "\n",
    "Nos eventos dependentes e independentes:\n",
    "\n",
    "- Independentes: multiplicam-se as probabilidades (ex tirar 3 no dado 4 vezes seguidas)\n",
    "- Dependentes: também multiplicam-se as probabilidades mas o espaço amostral muda (ex tirar 2 e depois 3 no baralho sem repor as cartas)\n",
    "\n"
   ]
  },
  {
   "cell_type": "markdown",
   "metadata": {},
   "source": [
    "# Distribuições\n",
    "\n",
    "Forma de distribuir os dados, mostrar frequência de ocorrencias\n",
    "\n",
    "## Distribuição binomial\n",
    "\n",
    "É discreta. Seus pré-requisitos são:\n",
    "\n",
    "- Numero fixo de experimentos\n",
    "- 2 resultados (true ou false)\n",
    "- probabilidade de sucesso deve ser a mesma por experimento\n",
    "- experimentos independentes\n",
    "\n",
    "Convenções: \n",
    "\n",
    "- $X = $ total de sucesso\n",
    "- $p = $ probabilidade de sucesso\n",
    "- $n = $ número de experimentos\n",
    "- $1-p=$ probabilidade de fracasso\n",
    "\n",
    "A fórmula para calcular pela distribuição binomial é:\n",
    "\n",
    "$$ f(x) = \\binom{n}{x} p^x(1-p)^{(n-x)} $$ \n",
    "\n",
    "onde:\n",
    "\n",
    "$$  \\binom{n}{x} = \\frac{n!}{k!(n-k)!}$$\n",
    "\n",
    "\n",
    "### Exemplo\n",
    "\n",
    "Jogando uma moeda 5 vezes, qual a chance de dar cara 3 vezes?\n",
    "\n",
    "$$f(x) =  \\binom{5}{3} 0.5^x(1-0.5)^{(5-3)}$$\n",
    "\n",
    "Calculando isso tudo aí na calculadora dá:\n",
    "\n",
    "$$f(x) = 0.3125$$\n",
    "\n",
    "\n"
   ]
  },
  {
   "cell_type": "code",
   "execution_count": 9,
   "metadata": {},
   "outputs": [
    {
     "name": "stdout",
     "output_type": "stream",
     "text": [
      "p = 0.3125\n",
      "p = 0.31640625000000006\n",
      "p = 0.4218750000000001\n",
      "p = 0.21093750000000006\n",
      "p = 0.046875000000000035\n",
      "p = 0.003906250000000001\n",
      "Prob. comulativa = 1.0\n"
     ]
    }
   ],
   "source": [
    "# Distribuição binomial\n",
    "from scipy.stats import binom\n",
    "\n",
    "p = binom.pmf(3, 5, 0.5) # o binômio aqui é invertido (?)\n",
    "print(f'p = {p}')\n",
    "\n",
    "for i in range(5):\n",
    "  print(f'p = {binom.pmf(i, 4, 0.25)}')\n",
    "\n",
    "print(f'Prob. comulativa = {binom.cdf(4, 4, 0.25)}')"
   ]
  },
  {
   "cell_type": "markdown",
   "metadata": {},
   "source": [
    "## Distribuição normal\n",
    "\n",
    "Maioria dos dados ficam ao centro, sendo 68% deles em cerca de $\\pm 1\\sigma$\n",
    "\n",
    "### Teorema central do limite\n",
    "\n",
    "Conforme o o tamanho da amostra aumenta, as médias amostrais se aproximam da distribuição normal\n",
    "\n",
    "Independente da distribuição dos dados as médias estão uniformemente distribuidas.\n",
    "\n",
    "## Normal padrão\n",
    "\n",
    "Mostra o valor normalizado:\n",
    "\n",
    "$$ Z = \\frac{X - \\mu}{\\sigma}$$\n",
    "\n",
    "Características: \n",
    "\n",
    "- Média zero\n",
    "- Desvio padrão 1\n",
    "\n",
    "### Exemplo\n",
    "\n",
    "- Numa cesta há objetos com pesos normalmente distribuídos, com média 8 e desvio padrão 2. Qual a chance de tirar um objeto de menos de 6kg?\n",
    "\n",
    "Usando a normal padronizada:\n",
    "\n",
    "$$ Z = \\frac{X - \\mu}{\\sigma} \\quad \\to \\quad Z = \\frac{6 - 8}{2} = -1$$\n",
    "\n",
    "Procurando -1 na tabela de desvios obtemos:\n",
    "\n",
    "$$P = 0.1587$$\n",
    "\n",
    "- Qual a chance de tirar um objeto com menos de 6kg ou mais de 10kg?\n",
    "\n",
    "Calcula a probabilidade para cada condição e depois soma pois é um OU\n",
    "\n",
    "## Verificando a normalidade da distribuição\n",
    "\n",
    "- A maneira mais fácil de verificar é fazendo um histograma dos dados, para verificar a frequência de ocorrência de cada.\n",
    "- Gerar diagrama de probabilidade normal, fica uma reta se for normal.\n",
    "- Teste de Shapiro-Wilk (?)"
   ]
  },
  {
   "cell_type": "code",
   "execution_count": 10,
   "metadata": {},
   "outputs": [
    {
     "name": "stdout",
     "output_type": "stream",
     "text": [
      "greater_6=0.8413447460685429, less_6=0.15865525393145707, less_6_greater_10=0.31731050786291415, between_8_10=0.3413447460685429\n"
     ]
    }
   ],
   "source": [
    "# Distribuição normal\n",
    "from scipy.stats import norm\n",
    "\n",
    "# peso menor do que 6kg\n",
    "less_6 = norm.cdf(6, 8, 2)\n",
    "\n",
    "# peso maior do que 6kg\n",
    "greater_6 = norm.sf(6,8,2)\n",
    "\n",
    "# menor que 6 ou maior que 10\n",
    "less_6_greater_10 = less_6 + norm.sf(10,8,2)\n",
    "\n",
    "# entre 8 e 10:\n",
    "between_8_10 = norm.sf(8, 8, 2) - norm.sf(10, 8, 2)\n",
    "\n",
    "print(f'{greater_6=}, {less_6=}, {less_6_greater_10=}, {between_8_10=}')"
   ]
  },
  {
   "cell_type": "code",
   "execution_count": 11,
   "metadata": {},
   "outputs": [
    {
     "data": {
      "image/png": "[encoded data removed]",
      "text/plain": [
       "<Figure size 432x288 with 1 Axes>"
      ]
     },
     "metadata": {
      "needs_background": "light"
     },
     "output_type": "display_data"
    },
    {
     "data": {
      "text/plain": [
       "((array([-2.46203784, -2.12570747, -1.93122778, -1.79044653, -1.67819304,\n",
       "         -1.58381122, -1.50174123, -1.42869743, -1.36256869, -1.30191411,\n",
       "         -1.24570419, -1.19317644, -1.14374949, -1.09696931, -1.05247413,\n",
       "         -1.00997067, -0.96921765, -0.93001393, -0.89218993, -0.85560121,\n",
       "         -0.82012357, -0.78564937, -0.75208458, -0.71934648, -0.68736185,\n",
       "         -0.65606548, -0.62539893, -0.59530962, -0.56574992, -0.53667655,\n",
       "         -0.50804994, -0.47983378, -0.45199463, -0.42450149, -0.39732558,\n",
       "         -0.37044003, -0.34381966, -0.31744076, -0.29128096, -0.26531902,\n",
       "         -0.23953472, -0.21390872, -0.18842244, -0.16305799, -0.13779803,\n",
       "         -0.1126257 , -0.08752455, -0.06247843, -0.03747145, -0.01248789,\n",
       "          0.01248789,  0.03747145,  0.06247843,  0.08752455,  0.1126257 ,\n",
       "          0.13779803,  0.16305799,  0.18842244,  0.21390872,  0.23953472,\n",
       "          0.26531902,  0.29128096,  0.31744076,  0.34381966,  0.37044003,\n",
       "          0.39732558,  0.42450149,  0.45199463,  0.47983378,  0.50804994,\n",
       "          0.53667655,  0.56574992,  0.59530962,  0.62539893,  0.65606548,\n",
       "          0.68736185,  0.71934648,  0.75208458,  0.78564937,  0.82012357,\n",
       "          0.85560121,  0.89218993,  0.93001393,  0.96921765,  1.00997067,\n",
       "          1.05247413,  1.09696931,  1.14374949,  1.19317644,  1.24570419,\n",
       "          1.30191411,  1.36256869,  1.42869743,  1.50174123,  1.58381122,\n",
       "          1.67819304,  1.79044653,  1.93122778,  2.12570747,  2.46203784]),\n",
       "  array([-2.63565207, -2.30097568, -2.13130459, -1.75845785, -1.44775729,\n",
       "         -1.39579891, -1.33043287, -1.32093776, -1.22215105, -1.17648008,\n",
       "         -1.132842  , -1.12813011, -1.11680415, -1.05750967, -1.04002326,\n",
       "         -1.02476797, -0.96303261, -0.95152227, -0.95002127, -0.94945902,\n",
       "         -0.92032597, -0.91272272, -0.88365354, -0.79106843, -0.78051696,\n",
       "         -0.76831002, -0.75158733, -0.73051369, -0.72283324, -0.63521575,\n",
       "         -0.63105335, -0.58457104, -0.5827223 , -0.57698177, -0.54709729,\n",
       "         -0.50130871, -0.46963615, -0.43971291, -0.43649229, -0.41192344,\n",
       "         -0.33401546, -0.29940858, -0.28316164, -0.24710405, -0.23172398,\n",
       "         -0.19645816, -0.13906479, -0.13715133, -0.12176599, -0.06240246,\n",
       "         -0.05739548,  0.03401664,  0.07043496,  0.08228965,  0.10579741,\n",
       "          0.19264342,  0.20390314,  0.22554531,  0.23143014,  0.25423583,\n",
       "          0.26974959,  0.27314025,  0.31766356,  0.31803037,  0.35367388,\n",
       "          0.39693976,  0.4128616 ,  0.43812657,  0.46303457,  0.46483706,\n",
       "          0.50277264,  0.57352621,  0.60934816,  0.63510527,  0.71636453,\n",
       "          0.74331084,  0.79007601,  0.80302123,  0.80684894,  0.82846477,\n",
       "          0.84159905,  0.84882896,  0.85368319,  0.85526389,  0.86922   ,\n",
       "          0.90682975,  0.92200126,  1.03505376,  1.09140746,  1.11454943,\n",
       "          1.12350542,  1.15255964,  1.17497813,  1.33948137,  1.35723958,\n",
       "          1.37168879,  1.41763572,  1.67324951,  2.23938782,  2.47462095])),\n",
       " (0.9693791725807362, -0.054419833476888696, 0.9945547265273501))"
      ]
     },
     "execution_count": 11,
     "metadata": {},
     "output_type": "execute_result"
    },
    {
     "data": {
      "image/png": "[encoded data removed]",
      "text/plain": [
       "<Figure size 432x288 with 1 Axes>"
      ]
     },
     "metadata": {
      "needs_background": "light"
     },
     "output_type": "display_data"
    }
   ],
   "source": [
    "# teste normal\n",
    "from scipy import stats\n",
    "from scipy.stats import norm\n",
    "import matplotlib.pyplot as plt\n",
    "\n",
    "data = norm.rvs(size = 100)\n",
    "\n",
    "plt.hist(data)\n",
    "plt.show()\n",
    "plt.clf()\n",
    "\n",
    "stats.probplot(data, plot = plt)"
   ]
  },
  {
   "cell_type": "markdown",
   "metadata": {},
   "source": [
    "# Intervalos de confiança\n",
    "\n",
    "Para representar a população por meio da amostra é preciso cuidado pois os dados podem ficar enviesados, ruins e está sujeito à um erro padrão.\n",
    "\n",
    "Usando amostra devemos esperar variação entre amostras. É possível medir a variação esperada\n",
    "\n",
    "- Intervalo de confiança é usado para estimar o erro\n",
    "- parâmetro é o valor a ser estimado\n",
    "- margem de erro é a variabilidade em $\\pm$\n",
    "- nível de confiança é de 80% a 99%\n",
    "- tamanho da amostra é (n)\n",
    "\n",
    "A compensação consiste em aumentar alguns parâmetros:\n",
    "\n",
    "- aumentar o nível de confiança aumenta o erro padrão\n",
    "- aumentar o tamanho da amostra reduz o erro padrão\n",
    "\n",
    "Existem 2 tipos de intervalo de confiança:\n",
    "\n",
    "- para a média\n",
    "- para a proporção\n",
    "\n",
    "## Exemplo - intervalo para a média\n",
    "\n",
    "Estimar o salário médio de um cientista de dados.\n",
    "\n",
    "- 100 pesquisados (escolha)\n",
    "- Intervalo de confiança: 95% (escolha)\n",
    "- desvio padrão = 1100 (calculado)\n",
    "- média = 5800 (calculado)\n",
    "- valor $Z^*$ = 1.96 (tabelado)\n",
    "- margem de erro = \n",
    "$$\\bar{X} \\pm Z \\cdot \\frac{\\sigma}{\\sqrt{n}} = \\pm 215.60$$\n",
    "\n",
    "Assim, o salário médio é de R\\$ $5800,00\\pm 215.60$ com um nível de confiança de 95%\n",
    "\n",
    "## Exemplo - intervalo para a proporção\n",
    "\n",
    "Estimar a proporção de eleitores que pretendem votar em ABC para prefeito\n",
    "\n",
    "- 1000 pesquisados\n",
    "- intervalo de confiança = 95%\n",
    "- 650 votam em ABC = 0.65\n",
    "- 330 votam em DEF = 0.33\n",
    "- 20 não votam em nenhum = 0.02\n",
    "- $Z^* = 1.96$\n",
    "\n",
    "calculando o intervalo para a proporção:\n",
    "\n",
    "$$ \\hat{p} \\pm Z \\cdot \\sqrt{\\frac{\\hat{p}(1 - \\hat{p})}{n}} \\to \\hat{p} \\pm 0.03 $$\n",
    "\n",
    "Assim, $68\\% \\pm 3\\%$ votam em ABC"
   ]
  },
  {
   "cell_type": "markdown",
   "metadata": {},
   "source": [
    "# Teste de hipótese\n",
    "\n",
    "Confirmar ou negar a premissa, e verificar se é estatisticamente significante\n",
    "\n",
    "No censo não precisa de teste de hipótese\n",
    "\n",
    "terminologia:\n",
    "\n",
    "- $H_0$ é a hipótese nula\n",
    "- $H_0$ só é falsa quando provada que é falsa, caso contrário é verdadeira\n",
    "- $H_a$ é a hipótese alternativa\n",
    "- Score padrão é o erro dps dados acima ou abaixo da média (hipótese nula é a média)\n",
    "- Versão padronizada da estatística é a **estatística de teste**\n",
    "- Se na versão padronizada de Z, a estatística estiver próxima de 0 ou no intervalo onde deve estar, não se pode rejeitar $H_0$\n",
    "- Se estiver próximo à cauda pode rejeitar $H_0$\n",
    "\n",
    "## Alfa e valor p\n",
    "\n",
    "Normalmente usa-se 0.05 e às vezes 0.01\n",
    "\n",
    "- $valor - P \\geq \\alpha$: não rejeita $H_0$\n",
    "- $valor - P \\leq \\alpha$: rejeita $H_0$\n",
    "- $valor - P \\approx \\alpha$: Inconclusivo\n",
    "\n",
    "## Etapas do teste de hipótese\n",
    "\n",
    "1. Definir o tamanho da amostra\n",
    "2. Coletar dados\n",
    "3. Calcular média e desvio padrão\n",
    "4. Definir a hipótese nula e a alternativa\n",
    "5. Escolher o $\\alpha$\n",
    "6. Padronizar os dados gerando a estatística de teste\n",
    "7. Encontrar $valor-p$ na tabela Z\n",
    "8. Comparar com o $\\alpha$\n",
    "9. Emitir o veredito\n",
    "\n",
    "A fórmula para a estatística de teste para a média é:\n",
    "\n",
    "$$ Z = \\dfrac{\\bar{X} - \\mu_0}{\\dfrac{\\sigma}{\\sqrt{n}}}$$\n",
    "\n",
    "Para a proporção é:\n",
    "\n",
    "\n",
    "$$ P = \\dfrac{\\hat{p} - p_0}{\\sqrt{\\dfrac{p_0(1-p_0)}{n}}}$$\n",
    "\n",
    "### Exemplo 1\n",
    "\n",
    "Um estudo afirma que em média 22 crianças estão obesas. Os dados coletados são:\n",
    "\n",
    "1. $n = 100$\n",
    "2. $\\bar{X} = 23$\n",
    "3. $\\sigma = 4$\n",
    "\n",
    "A hipótese nula e a alternativa são:\n",
    "\n",
    "- $H_0: \\mu = 22$\n",
    "- $H_a: \\mu \\geq 23 $\n",
    "\n",
    "Escolhendo o $\\alpha = 0.05$ e calculando o Z:\n",
    "\n",
    "$$ Z = \\dfrac{23 - 22}{\\dfrac{4}{\\sqrt{100}}} = 2.5$$\n",
    "\n",
    "Procurando Z na tabela tem-se $Z = 0.9938$\n",
    "\n",
    "Fazendo $valor-P = 1-0.9938 = 0.0062$ concluímos que P é menor que $\\alpha$, assim, rejeitamos a hipótese;\n",
    "\n",
    "Pra proporção é o mesmo passo a passo, só muda a equação"
   ]
  },
  {
   "cell_type": "markdown",
   "metadata": {},
   "source": [
    "# Distribuição T de student\n",
    "\n",
    "- Utilizada com amostra pequena (< 30)\n",
    "- não se conhece o desvio padrão da população\n",
    "- maior variabilidade em teste de hipótese\n",
    "- mais valores nas caudas\n",
    "- quando amostra cresce vira a dist. normal\n",
    "\n",
    "Grau de liberdade: (amostra - 1)\n",
    "\n",
    "Pode ser usada exatamente da mesma forma que a normal.\n",
    "\n",
    "Para usar a tabela é calculado o t, depois consultada a probabilidade em tabela, igual na normal.\n",
    "\n",
    "### Exemplo\n",
    "\n",
    "Uma pesquisa mostra que cientistas de dados ganham 75 reais/h. Uma amostra de 9 cientistas é selecionada. O desvio da amostra é 10. qual a probabilidade de um salário ser menor que 80 reais/h?\n",
    "\n",
    "- $\\mu_0 = 75$ (média da população)\n",
    "- $S = 10$ (desvio da amostra)\n",
    "- $n = 9$ (tamanho da amostra)\n",
    "- $t_0 = n-1 = 8$ (grau de liberdade)\n",
    "\n",
    "Usando a equação de $t$:\n",
    "\n",
    "$$ t = \\dfrac{\\bar{X} - \\mu_0}{\\dfrac{S}{\\sqrt{n}}} \\to t = 1.5$$\n",
    "\n",
    "Procurando t na tabela para o grau de liberdade, $P = 92.5\\%$"
   ]
  },
  {
   "cell_type": "code",
   "execution_count": 13,
   "metadata": {},
   "outputs": [
    {
     "name": "stdout",
     "output_type": "stream",
     "text": [
      "p=0.9139983540240443\n"
     ]
    }
   ],
   "source": [
    "# T de Student\n",
    "from scipy.stats import t\n",
    "\n",
    "p = t.cdf(1.5, 8)\n",
    "\n",
    "print(f'{p=}')"
   ]
  }
 ],
 "metadata": {
  "interpreter": {
   "hash": "916dbcbb3f70747c44a77c7bcd40155683ae19c65e1c03b4aa3499c5328201f1"
  },
  "kernelspec": {
   "display_name": "Python 3.8.10 64-bit",
   "name": "python3"
  },
  "language_info": {
   "codemirror_mode": {
    "name": "ipython",
    "version": 3
   },
   "file_extension": ".py",
   "mimetype": "text/x-python",
   "name": "python",
   "nbconvert_exporter": "python",
   "pygments_lexer": "ipython3",
   "version": "3.8.10"
  },
  "orig_nbformat": 4
 },
 "nbformat": 4,
 "nbformat_minor": 2
}
