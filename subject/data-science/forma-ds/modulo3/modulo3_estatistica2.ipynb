{
 "cells": [
  {
   "cell_type": "markdown",
   "metadata": {},
   "source": [
    "# Estatística II\n",
    "\n",
    "- Gráfico de dispersão: famoso scatter plot. Serve para ver os pontos x,y no plano cartesiano\n",
    "- Regressão linear: representação em forma de reta de dados que se relacionam linearmente\n",
    "\n",
    "## Correlação \n",
    "\n",
    "Mostra a força e direção entre variáveis\n",
    "\n",
    "$R = [-1,1]$\n",
    "\n",
    "A correlação $A \\sim B$ é a mesma para $B \\sim A$:\n",
    "\n",
    "- $R \\leq 0.5$ correlação fraca\n",
    "- $0.5 < R \\leq 0.7$ correlação moderada\n",
    "- $0.7 < R < 1$ correlação forte\n",
    "- $R = 1$ correlação perfeita\n",
    "\n",
    "Coeficiente de determinação ($R^2$) mostra quanto o modelo explica os valores. O restante da variabilidade está em variáveis que não estão no modelo. Se incluir mais variáveis o modelo fica mais preciso (teoricamente)\n",
    "\n",
    "> Correlação não é causa\n",
    "\n",
    "## Regressão linear\n",
    "\n",
    "Outliers: são valores forma do padrão, exorbitantes, muito longe do esperado. Reduzem muito a correlação dos dados\n",
    "\n",
    "Extrapolação: Aumentar a faixa de valores com base na regressão.\n",
    "\n"
   ]
  },
  {
   "cell_type": "code",
   "execution_count": 49,
   "metadata": {},
   "outputs": [
    {
     "name": "stdout",
     "output_type": "stream",
     "text": [
      "Defaulting to user installation because normal site-packages is not writeable\n",
      "Requirement already satisfied: yellowbrick in /home/pesadaum/.local/lib/python3.8/site-packages (1.3.post1)\n",
      "Requirement already satisfied: scikit-learn>=0.20 in /home/pesadaum/.local/lib/python3.8/site-packages (from yellowbrick) (1.0.1)\n",
      "Requirement already satisfied: numpy<1.20,>=1.16.0 in /usr/local/lib/python3.8/dist-packages (from yellowbrick) (1.19.5)\n",
      "Requirement already satisfied: cycler>=0.10.0 in /usr/local/lib/python3.8/dist-packages (from yellowbrick) (0.10.0)\n",
      "Requirement already satisfied: matplotlib!=3.0.0,>=2.0.2 in /usr/local/lib/python3.8/dist-packages (from yellowbrick) (3.3.3)\n",
      "Requirement already satisfied: scipy>=1.0.0 in /usr/local/lib/python3.8/dist-packages (from yellowbrick) (1.6.0)\n",
      "Requirement already satisfied: six in /usr/lib/python3/dist-packages (from cycler>=0.10.0->yellowbrick) (1.14.0)\n",
      "Requirement already satisfied: kiwisolver>=1.0.1 in /usr/local/lib/python3.8/dist-packages (from matplotlib!=3.0.0,>=2.0.2->yellowbrick) (1.3.1)\n",
      "Requirement already satisfied: pyparsing!=2.0.4,!=2.1.2,!=2.1.6,>=2.0.3 in /usr/local/lib/python3.8/dist-packages (from matplotlib!=3.0.0,>=2.0.2->yellowbrick) (2.4.7)\n",
      "Requirement already satisfied: python-dateutil>=2.1 in /usr/lib/python3/dist-packages (from matplotlib!=3.0.0,>=2.0.2->yellowbrick) (2.7.3)\n",
      "Requirement already satisfied: pillow>=6.2.0 in /home/pesadaum/.local/lib/python3.8/site-packages (from matplotlib!=3.0.0,>=2.0.2->yellowbrick) (8.3.2)\n",
      "Requirement already satisfied: threadpoolctl>=2.0.0 in /home/pesadaum/.local/lib/python3.8/site-packages (from scikit-learn>=0.20->yellowbrick) (3.0.0)\n",
      "Requirement already satisfied: joblib>=0.11 in /home/pesadaum/.local/lib/python3.8/site-packages (from scikit-learn>=0.20->yellowbrick) (1.1.0)\n"
     ]
    }
   ],
   "source": [
    "!pip install yellowbrick pandas numpy matplotlib sklearn"
   ]
  },
  {
   "cell_type": "code",
   "execution_count": 50,
   "metadata": {},
   "outputs": [
    {
     "ename": "ModuleNotFoundError",
     "evalue": "No module named 'yellowbrick'",
     "output_type": "error",
     "traceback": [
      "\u001b[0;31m---------------------------------------------------------------------------\u001b[0m",
      "\u001b[0;31mModuleNotFoundError\u001b[0m                       Traceback (most recent call last)",
      "\u001b[0;32m/tmp/ipykernel_22852/313088545.py\u001b[0m in \u001b[0;36m<module>\u001b[0;34m\u001b[0m\n\u001b[1;32m      4\u001b[0m \u001b[0;32mimport\u001b[0m \u001b[0mmatplotlib\u001b[0m\u001b[0;34m.\u001b[0m\u001b[0mpyplot\u001b[0m \u001b[0;32mas\u001b[0m \u001b[0mplt\u001b[0m\u001b[0;34m\u001b[0m\u001b[0;34m\u001b[0m\u001b[0m\n\u001b[1;32m      5\u001b[0m \u001b[0;32mfrom\u001b[0m \u001b[0msklearn\u001b[0m\u001b[0;34m.\u001b[0m\u001b[0mlinear_model\u001b[0m \u001b[0;32mimport\u001b[0m \u001b[0mLinearRegression\u001b[0m\u001b[0;34m\u001b[0m\u001b[0;34m\u001b[0m\u001b[0m\n\u001b[0;32m----> 6\u001b[0;31m \u001b[0;32mfrom\u001b[0m \u001b[0myellowbrick\u001b[0m\u001b[0;34m.\u001b[0m\u001b[0mregressor\u001b[0m \u001b[0;32mimport\u001b[0m \u001b[0mResidualsPlot\u001b[0m\u001b[0;34m\u001b[0m\u001b[0;34m\u001b[0m\u001b[0m\n\u001b[0m\u001b[1;32m      7\u001b[0m \u001b[0;34m\u001b[0m\u001b[0m\n\u001b[1;32m      8\u001b[0m \u001b[0mdf\u001b[0m \u001b[0;34m=\u001b[0m \u001b[0mpd\u001b[0m\u001b[0;34m.\u001b[0m\u001b[0mread_csv\u001b[0m\u001b[0;34m(\u001b[0m\u001b[0;34m'./datasets/cars.csv'\u001b[0m\u001b[0;34m)\u001b[0m\u001b[0;34m\u001b[0m\u001b[0;34m\u001b[0m\u001b[0m\n",
      "\u001b[0;31mModuleNotFoundError\u001b[0m: No module named 'yellowbrick'"
     ]
    }
   ],
   "source": [
    "# Regressão linear\n",
    "import pandas as pd\n",
    "import numpy as np\n",
    "import matplotlib.pyplot as plt\n",
    "from sklearn.linear_model import LinearRegression\n",
    "\n",
    "df = pd.read_csv('./datasets/cars.csv')\n",
    "df = df.drop(['Unnamed: 0'], axis=1)\n",
    "\n",
    "X = df.iloc[:, 1].values\n",
    "X = X.reshape(-1,1)\n",
    "\n",
    "y = df.iloc[:, 0].values\n",
    "\n",
    "# corr = np.corrcoef(X,y)\n",
    "# corr\n",
    "\n",
    "model = LinearRegression()\n",
    "model.fit(X,y)\n",
    "\n",
    "print(f'{model.intercept_=}, {model.coef_=}')\n",
    "\n",
    "plt.scatter(X,y)\n",
    "plt.plot(X, model.predict(X), \":r\")\n",
    "\n"
   ]
  },
  {
   "cell_type": "code",
   "execution_count": null,
   "metadata": {},
   "outputs": [],
   "source": [
    "#\n",
    "from yellowbrick.regressor import ResidualsPlot\n",
    "\n",
    "pred = model.intercept_ + model.coef_ * 22\n",
    "print(pred)\n",
    "# # outra forma\n",
    "model.predict([[22]]) # a função só aceita array 2D \\shrug\n",
    "\n",
    "print(f'{model._residues=}')\n",
    "\n",
    "view = ResidualsPlot(model)\n",
    "view.fit(X,y)\n",
    "view.poof()"
   ]
  }
 ],
 "metadata": {
  "interpreter": {
   "hash": "42701ff7ac75a95e5f5018d6be740cfcc0cbb27b1a5f9422bcbd03568a419766"
  },
  "kernelspec": {
   "display_name": "Python 3.8.10 64-bit ('env': venv)",
   "language": "python",
   "name": "python3"
  },
  "language_info": {
   "codemirror_mode": {
    "name": "ipython",
    "version": 3
   },
   "file_extension": ".py",
   "mimetype": "text/x-python",
   "name": "python",
   "nbconvert_exporter": "python",
   "pygments_lexer": "ipython3",
   "version": "3.8.10"
  },
  "orig_nbformat": 4
 },
 "nbformat": 4,
 "nbformat_minor": 2
}
