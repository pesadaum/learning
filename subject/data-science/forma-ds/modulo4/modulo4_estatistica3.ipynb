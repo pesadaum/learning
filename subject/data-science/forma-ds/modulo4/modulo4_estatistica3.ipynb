{
 "cells": [
  {
   "cell_type": "markdown",
   "metadata": {},
   "source": [
    "# Estatística III\n",
    "\n",
    "# Análise exploratória de dados\n",
    "\n",
    "Surgida por volta de 1977 por john wilder turkey\n",
    "\n",
    "Busca obter informações ocultas nos dados\n",
    "\n",
    "- Variação\n",
    "- Anomalias\n",
    "- Distribuição\n",
    "- Tendências\n",
    "- Padrões\n",
    "- Relações\n",
    "\n",
    "> Sempre iniciar um projeto pela análise exploratória\n",
    "\n",
    "EDA não é ficar plotando gráfico, mas usa plots intensivamente\n"
   ]
  },
  {
   "cell_type": "markdown",
   "metadata": {},
   "source": [
    "# Distribuição de Poisson\n",
    "\n",
    "Mede probabilidade no tempo, ao invés de número de experimentos.\n",
    "\n",
    "Os intervalos devem ser independentes\n",
    "\n",
    "$$ P(X = x) = e^{-\\lambda} \\cdot \\frac{\\lambda^x}{x!}$$\n",
    "\n",
    "Onde:\n",
    "\n",
    "x é o número de eventos\n",
    "\n",
    "$\\lambda$ = número médio de eventos por intervalo\n",
    "\n",
    "### Exemplo\n",
    "\n",
    "Ocorrem em média 2 acidentes por dia em um local. Qual a chance de ocorrerem 3?\n",
    "\n",
    "$$ P(X = 3) = e^{-2} \\cdot \\frac{2^3}{3!} = 0.1804 = 18.04\\%$$\n",
    "\n",
    "Qual a probabilidade de ocorrerem 3 ou menos? \n",
    "\n",
    "Tem que fazer a probabilidade pra $X = [3,2,1,0]$\n",
    "\n",
    "Qual a probabilidade de ocorrerem 3 ou mais?\n",
    "\n",
    "Complementar de ocorrerem 3 ou menos"
   ]
  },
  {
   "cell_type": "code",
   "execution_count": 5,
   "metadata": {},
   "outputs": [
    {
     "name": "stdout",
     "output_type": "stream",
     "text": [
      "exact_3=18.04%\n",
      "less_3=85.71%\n",
      "more_3=14.29%\n"
     ]
    }
   ],
   "source": [
    "# Distribuição de poisson\n",
    "from scipy.stats import poisson\n",
    "\n",
    "exact_3 = poisson.pmf(3,2)\n",
    "print(f'{exact_3=:.2%}')\n",
    "\n",
    "less_3 = poisson.cdf(3,2)\n",
    "print(f'{less_3=:.2%}')\n",
    "\n",
    "more_3 = poisson.sf(3,2)\n",
    "print(f'{more_3=:.2%}')"
   ]
  },
  {
   "cell_type": "markdown",
   "metadata": {},
   "source": [
    "# Qui quadrado\n",
    "\n"
   ]
  }
 ],
 "metadata": {
  "interpreter": {
   "hash": "42701ff7ac75a95e5f5018d6be740cfcc0cbb27b1a5f9422bcbd03568a419766"
  },
  "kernelspec": {
   "display_name": "Python 3.8.10 64-bit ('env': venv)",
   "language": "python",
   "name": "python3"
  },
  "language_info": {
   "codemirror_mode": {
    "name": "ipython",
    "version": 3
   },
   "file_extension": ".py",
   "mimetype": "text/x-python",
   "name": "python",
   "nbconvert_exporter": "python",
   "pygments_lexer": "ipython3",
   "version": "3.8.10"
  },
  "orig_nbformat": 4
 },
 "nbformat": 4,
 "nbformat_minor": 2
}
