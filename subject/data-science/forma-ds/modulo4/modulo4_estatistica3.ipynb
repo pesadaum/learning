{
 "cells": [
  {
   "cell_type": "markdown",
   "metadata": {},
   "source": [
    "# Estatística III\n",
    "\n",
    "# Análise exploratória de dados\n",
    "\n",
    "Surgida por volta de 1977 por john wilder turkey\n",
    "\n",
    "Busca obter informações ocultas nos dados\n",
    "\n",
    "- Variação\n",
    "- Anomalias\n",
    "- Distribuição\n",
    "- Tendências\n",
    "- Padrões\n",
    "- Relações\n",
    "\n",
    "> Sempre iniciar um projeto pela análise exploratória\n",
    "\n",
    "EDA não é ficar plotando gráfico, mas usa plots intensivamente\n"
   ]
  },
  {
   "cell_type": "markdown",
   "metadata": {},
   "source": [
    "# Distribuição de Poisson\n",
    "\n",
    "Mede probabilidade no tempo, ao invés de número de experimentos.\n",
    "\n",
    "Os intervalos devem ser independentes\n",
    "\n",
    "$$ P(X = x) = e^{-\\lambda} \\cdot \\frac{\\lambda^x}{x!}$$\n",
    "\n",
    "Onde:\n",
    "\n",
    "x é o número de eventos\n",
    "\n",
    "$\\lambda$ = número médio de eventos por intervalo\n",
    "\n",
    "### Exemplo\n",
    "\n",
    "Ocorrem em média 2 acidentes por dia em um local. Qual a chance de ocorrerem 3?\n",
    "\n",
    "$$ P(X = 3) = e^{-2} \\cdot \\frac{2^3}{3!} = 0.1804 = 18.04\\%$$\n",
    "\n",
    "Qual a probabilidade de ocorrerem 3 ou menos? \n",
    "\n",
    "Tem que fazer a probabilidade pra $X = [3,2,1,0]$\n",
    "\n",
    "Qual a probabilidade de ocorrerem 3 ou mais?\n",
    "\n",
    "Complementar de ocorrerem 3 ou menos"
   ]
  },
  {
   "cell_type": "code",
   "execution_count": 12,
   "metadata": {},
   "outputs": [
    {
     "name": "stdout",
     "output_type": "stream",
     "text": [
      "exact_3=18.04%\n",
      "less_3=85.71%\n",
      "more_3=14.29%\n"
     ]
    }
   ],
   "source": [
    "# Distribuição de poisson\n",
    "from scipy.stats import poisson\n",
    "\n",
    "exact_3 = poisson.pmf(3,2)\n",
    "print(f'{exact_3=:.2%}')\n",
    "\n",
    "less_3 = poisson.cdf(3,2)\n",
    "print(f'{less_3=:.2%}')\n",
    "\n",
    "more_3 = poisson.sf(3,2)\n",
    "print(f'{more_3=:.2%}')"
   ]
  },
  {
   "cell_type": "markdown",
   "metadata": {},
   "source": [
    "# Qui quadrado\n",
    "\n",
    "Eu não entendi nada disso"
   ]
  },
  {
   "cell_type": "markdown",
   "metadata": {},
   "source": [
    "# Teste t de student\n",
    "\n",
    "É um teste de hipótese usado para separar dois grupos e/ou duas médias. Para esse teste:\n",
    "\n",
    "- As populações devem ser independentes\n",
    "- A variável dependente é normalmente distribuída\n",
    "- Variância das duas variáveis é aproximada\n",
    "  \n",
    "# Análise de variância (Anova)\n",
    "\n",
    "Com 3 grupos, não dá pra usar t de student, por isso existe a Anova. É basicamente a mesma coisa da t de student, porém olha a variação dentro dos grupos. Ela olha o conjunto completo.\n",
    "\n",
    "- Possui uma variável quantitativa e várias categóricas.\n",
    "\n",
    "### Exemplo\n",
    "\n",
    "Supondo que hajam 2 remédios com diferentes tempos para \"curar\" determinada doença e que o remédio A seja 20% mais caro que o remédio B.\n",
    "\n",
    "- $H_0$: não há diferença no tempo de cura entre os remédios\n",
    "- $H_a$: há diferença verdadeira no tempo de cura entre os remédios\n",
    "\n",
    "Se fossem apenas 2 remédios seria só usar a distribuição t de student mas se houvessem mais remédios as comparações aumentam muito e ficam inviáveis.\n",
    "\n",
    "#### Teste F\n",
    "\n",
    "- $F(X,Y)$: \n",
    "  - X -> graus de liberdade (n_grupos -1)\n",
    "  - Y -> graus de liberdade no denominador (n_obs - n_grupos)\n",
    "\n",
    "Lembrando que na hipótese alternativa $H_a$: há diferença verdadeira no tempo de cura entre os remédios:\n",
    "\n",
    "$valor - p < \\alpha$: há variação significativa\n"
   ]
  },
  {
   "cell_type": "markdown",
   "metadata": {},
   "source": [
    "# Outliers\n",
    "\n",
    "Valores fora do esperado, apenas.  Dá pra contornar o problema de 3 formas, mas não há receita universal para isso:\n",
    "\n",
    "- Fazer nada\n",
    "- Substituir\n",
    "- Remover"
   ]
  },
  {
   "cell_type": "code",
   "execution_count": 5,
   "metadata": {},
   "outputs": [
    {
     "name": "stdout",
     "output_type": "stream",
     "text": [
      "outliers=    Id  SepalLengthCm  SepalWidthCm  PetalLengthCm  PetalWidthCm  \\\n",
      "15  16            5.7           4.4            1.5           0.4   \n",
      "32  33            5.2           4.1            1.5           0.1   \n",
      "33  34            5.5           4.2            1.4           0.2   \n",
      "60  61            5.0           2.0            3.5           1.0   \n",
      "\n",
      "            Species  \n",
      "15      Iris-setosa  \n",
      "32      Iris-setosa  \n",
      "33      Iris-setosa  \n",
      "60  Iris-versicolor  \n",
      "predict=array([0, 0, 0, 0, 0, 0, 0, 0, 0, 0, 0, 0, 0, 0, 1, 1, 0, 0, 0, 0, 0, 0,\n",
      "       0, 0, 0, 0, 0, 0, 0, 0, 0, 0, 1, 1, 0, 0, 0, 0, 0, 0, 0, 0, 0, 0,\n",
      "       0, 0, 0, 0, 0, 0, 0, 0, 0, 0, 0, 0, 0, 0, 0, 0, 1, 0, 0, 0, 0, 0,\n",
      "       0, 0, 0, 0, 0, 0, 0, 0, 0, 0, 0, 0, 0, 0, 0, 0, 0, 0, 0, 0, 0, 0,\n",
      "       0, 0, 0, 0, 0, 0, 0, 0, 0, 0, 0, 0, 0, 0, 0, 0, 0, 0, 0, 0, 0, 0,\n",
      "       0, 0, 0, 0, 0, 0, 0, 0, 0, 0, 0, 0, 0, 0, 0, 0, 0, 0, 0, 0, 0, 0,\n",
      "       0, 0, 0, 0, 0, 0, 0, 0, 0, 0, 0, 0, 0, 0, 0, 0, 0, 0])\n"
     ]
    },
    {
     "data": {
      "image/png": "[encoded data removed]",
      "text/plain": [
       "<Figure size 432x288 with 1 Axes>"
      ]
     },
     "metadata": {
      "needs_background": "light"
     },
     "output_type": "display_data"
    }
   ],
   "source": [
    "import matplotlib.pyplot as plt\n",
    "import pandas as pd\n",
    "from pyod.models.knn import KNN\n",
    "\n",
    "df = pd.read_csv('datasets/Iris.csv')\n",
    "\n",
    "plt.boxplot(df.iloc[:,2])\n",
    "\n",
    "#olhando no gráfico\n",
    "outliers = df[(df['SepalWidthCm'] > 4) | (df['SepalWidthCm'] < 2.2)]\n",
    "print(f'{outliers=}')\n",
    "\n",
    "#fazendo do jeito certo\n",
    "\n",
    "sepal_width = df.iloc[:, 2].values\n",
    "sepal_width = sepal_width.reshape(-1, 1)\n",
    "\n",
    "detector = KNN()\n",
    "detector.fit(sepal_width)\n",
    "\n",
    "predict = detector.labels_\n",
    "\n",
    "plt.plot(predict)\n",
    "print(f'{predict=}')"
   ]
  }
 ],
 "metadata": {
  "interpreter": {
   "hash": "42701ff7ac75a95e5f5018d6be740cfcc0cbb27b1a5f9422bcbd03568a419766"
  },
  "kernelspec": {
   "display_name": "Python 3.8.10 64-bit ('env': venv)",
   "language": "python",
   "name": "python3"
  },
  "language_info": {
   "codemirror_mode": {
    "name": "ipython",
    "version": 3
   },
   "file_extension": ".py",
   "mimetype": "text/x-python",
   "name": "python",
   "nbconvert_exporter": "python",
   "pygments_lexer": "ipython3",
   "version": "3.8.10"
  },
  "orig_nbformat": 4
 },
 "nbformat": 4,
 "nbformat_minor": 2
}
