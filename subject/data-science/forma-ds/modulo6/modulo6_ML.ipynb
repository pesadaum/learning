{
 "cells": [
  {
   "cell_type": "markdown",
   "metadata": {},
   "source": [
    "# Machine Learning\n",
    "\n",
    "A máquina aprende através da interação com dados.\n",
    "\n",
    "Aprendizado deve ser contínuo e mensurável.\n",
    "\n",
    "## Conceitos\n",
    "\n",
    "- Colunas são dimensões/atributos\n",
    "- Classes são o que é para ser previsto\n",
    "- Instâncias são ocorrências dos atributos/dimensões (linhas)\n",
    "- Relação é a tabela\n",
    "- Tipos de dados:\n",
    "  - Nominais (sim, não)\n",
    "  - Numéricos (vc entendeu)\n",
    "  \n",
    "## Tarefas\n",
    "\n",
    "- Classificação -> atributos nominais\n",
    "- Regressão -> atributos numéricos\n",
    "- Agrupamento -> agrupar itens por semelhança matemática quando não se tem classes\n",
    "- Associação -> buscar semelhança entre elementos\n",
    "\n",
    "## Classificação\n",
    "\n",
    "Descobrir ou descrever a classe de um fato.\n",
    "\n",
    "> Sempre separar os dados de treino dos de teste. 70/30 tá bom\n",
    "\n",
    "Validação cruzada é dividir os treinos em vários sub-treinos e fazer a classificação\n",
    "\n",
    "matriz de confusão mostra os verdadeiros positivos e negativos versus falsos positivos e negativos.\n",
    "\n",
    "Estratificação melhora o problema da classe rara\n",
    "\n",
    "### Arvore de decisão\n",
    "\n",
    "É a boa e velha árvore, sem segredo, sem mistério. Cada nó é uma característica e deriva pra outras características, até que a folha mostra a classificação final\n",
    "\n",
    "### Naive Bayes\n",
    "\n",
    "Supõe que os atributos individuais influenciam a classe independentemente\n",
    "\n",
    "### Redes Bayesianas\n",
    "\n",
    "Mesma coisa de nive bayes, porém agora os atributos são dependentes, através de probabilidade condicional\n",
    "\n",
    "### SVM\n",
    "\n",
    "Cria duas retas paralelas entre 2 grupos e depois uma reta no meio delas (?)"
   ]
  }
 ],
 "metadata": {
  "language_info": {
   "name": "python"
  },
  "orig_nbformat": 4
 },
 "nbformat": 4,
 "nbformat_minor": 2
}
