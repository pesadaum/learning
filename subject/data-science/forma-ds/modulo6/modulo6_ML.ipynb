{
 "cells": [
  {
   "cell_type": "markdown",
   "metadata": {},
   "source": [
    "# Machine Learning\n",
    "\n",
    "A máquina aprende através da interação com dados.\n",
    "\n",
    "Aprendizado deve ser contínuo e mensurável.\n",
    "\n",
    "## Conceitos\n",
    "\n",
    "- Colunas são dimensões/atributos\n",
    "- Classes são o que é para ser previsto\n",
    "- Instâncias são ocorrências dos atributos/dimensões (linhas)\n",
    "- Relação é a tabela\n",
    "- Tipos de dados:\n",
    "  - Nominais (sim, não)\n",
    "  - Numéricos (vc entendeu)\n",
    "  \n",
    "## Tarefas\n",
    "\n",
    "- Classificação -> atributos nominais\n",
    "- Regressão -> atributos numéricos\n",
    "- Agrupamento -> agrupar itens por semelhança matemática quando não se tem classes\n",
    "- Associação -> buscar semelhança entre elementos\n"
   ]
  },
  {
   "cell_type": "markdown",
   "metadata": {},
   "source": []
  }
 ],
 "metadata": {
  "language_info": {
   "name": "python"
  },
  "orig_nbformat": 4
 },
 "nbformat": 4,
 "nbformat_minor": 2
}
